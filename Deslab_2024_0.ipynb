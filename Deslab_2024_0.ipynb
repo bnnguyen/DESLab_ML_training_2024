{
  "nbformat": 4,
  "nbformat_minor": 0,
  "metadata": {
    "kernelspec": {
      "display_name": "Python 3",
      "language": "python",
      "name": "python3"
    },
    "language_info": {
      "codemirror_mode": {
        "name": "ipython",
        "version": 3
      },
      "file_extension": ".py",
      "mimetype": "text/x-python",
      "name": "python",
      "nbconvert_exporter": "python",
      "pygments_lexer": "ipython3",
      "version": "3.6.0"
    },
    "colab": {
      "provenance": [],
      "include_colab_link": true
    }
  },
  "cells": [
    {
      "cell_type": "markdown",
      "metadata": {
        "id": "view-in-github",
        "colab_type": "text"
      },
      "source": [
        "<a href=\"https://colab.research.google.com/github/bnnguyen/DESLab_ML_training_2024/blob/main/Deslab_2024_0.ipynb\" target=\"_parent\"><img src=\"https://colab.research.google.com/assets/colab-badge.svg\" alt=\"Open In Colab\"/></a>"
      ]
    },
    {
      "cell_type": "markdown",
      "metadata": {
        "id": "8-j1hOljX4Zm"
      },
      "source": [
        "# Chào mừng đến với Jupyter Notebook 😸"
      ]
    },
    {
      "cell_type": "markdown",
      "metadata": {
        "id": "WqUosjiiX4Zt"
      },
      "source": [
        "## Jupyter Notebook?"
      ]
    },
    {
      "cell_type": "markdown",
      "metadata": {
        "id": "FkXQlTLlX4Zt"
      },
      "source": [
        "Trong trường hợp này, \"notebook\" hoặc \"notebook document\" biểu thị các tài liệu chứa cả phần code và phần văn bản đa dạng thức, chẳng hạn như số liệu, liên kết, phương trình, v.v... Do sự kết hợp giữa code và văn bản nên những tài liệu này là nơi lý tưởng để tập hợp mô tả phân tích cũng như code có thể được chạy và thực hiện phân tích dữ liệu trong thời gian thực.\n",
        "\n",
        "\"Jupyter\" là từ viết tắt của Julia, Python và R."
      ]
    },
    {
      "cell_type": "markdown",
      "metadata": {
        "id": "_COxpOR0X4Zt"
      },
      "source": [
        "**Tái tạo lại phương pháp cũ** và **trình bày ra cải tiến mới dựa vào nền tảng cũ** là hai trong số những nền tảng của nghiên cứu khoa học. Jupyter Notebook giúp bạn dễ dàng thực hiện cả hai đó!\n"
      ]
    },
    {
      "cell_type": "markdown",
      "source": [],
      "metadata": {
        "id": "OyXTvyLncJqh"
      }
    },
    {
      "cell_type": "markdown",
      "metadata": {
        "id": "4Wm-3azEX4Zu"
      },
      "source": [
        "Ở đây, bạn có thể nhập văn bản, và cũng có thể đưa [link](https://github.com/iitmcvg)."
      ]
    },
    {
      "cell_type": "code",
      "metadata": {
        "id": "ms-j712aX4Zu",
        "colab": {
          "base_uri": "https://localhost:8080/"
        },
        "outputId": "0bb65d32-3898-49a6-be3f-7690d18bb678"
      },
      "source": [
        "# Bạn cũng có thể code và xem output của chúng\n",
        "print('Hello World')"
      ],
      "execution_count": null,
      "outputs": [
        {
          "output_type": "stream",
          "name": "stdout",
          "text": [
            "Hello World\n"
          ]
        }
      ]
    },
    {
      "cell_type": "markdown",
      "metadata": {
        "id": "MNlr_tMQX4Zw"
      },
      "source": [
        "Mỗi khối mà bạn điều hướng bằng phím lên và xuống được gọi là một ô (cell)\n",
        "* Nhấn [Shift+Enter] để chạy code.\n",
        "* Để biết danh sách tất cả các phím tắt, nhấn [Ctrl+M+H] (bạn có thể điều chỉnh các phím tắt theo ý mình đó)"
      ]
    },
    {
      "cell_type": "markdown",
      "metadata": {
        "id": "jC9KZI9QX4Zx"
      },
      "source": [
        "### *Jupiter Notebook tốt hơn Python bình thường?*"
      ]
    },
    {
      "cell_type": "markdown",
      "metadata": {
        "id": "w36Gw8CsX4Zx"
      },
      "source": [
        "Chà, nếu bạn là một Data Scientist, notebook sẽ lưu trữ tất cả dữ liệu có thể thay đổi của bạn trong RAM, do đó bạn không cần phải tải đi tải lại, cũng như cho phép bạn nhúng các biểu đồ tương tác vào notebook của mình. Chúng ta hãy thử làm một ví dụ bằng cách vẽ hàm bậc hai nhé?"
      ]
    },
    {
      "cell_type": "code",
      "source": [
        "import pandas as pd\n",
        "import numpy as np\n",
        "import matplotlib as plt"
      ],
      "metadata": {
        "id": "ldhoCiAApFkw"
      },
      "execution_count": null,
      "outputs": []
    },
    {
      "cell_type": "code",
      "metadata": {
        "id": "3Ea01rHAX4Zy",
        "outputId": "8fe9883a-799b-4944-c147-308490ae81ef",
        "colab": {
          "base_uri": "https://localhost:8080/"
        }
      },
      "source": [
        "# This line configures matplotlib(plotting library) to show figures embedded in the notebook,\n",
        "# instead of opening a new window for each figure. It also imports numpy\n",
        "# and matplotlib.pyplot in their common namespaces, np and plt\n",
        "%pylab inline"
      ],
      "execution_count": null,
      "outputs": [
        {
          "output_type": "stream",
          "name": "stdout",
          "text": [
            "Populating the interactive namespace from numpy and matplotlib\n"
          ]
        },
        {
          "output_type": "stream",
          "name": "stderr",
          "text": [
            "/usr/local/lib/python3.10/dist-packages/IPython/core/magics/pylab.py:159: UserWarning: pylab import has clobbered these variables: ['plt']\n",
            "`%matplotlib` prevents importing * from pylab and numpy\n",
            "  warn(\"pylab import has clobbered these variables: %s\"  % clobbered +\n"
          ]
        }
      ]
    },
    {
      "cell_type": "code",
      "metadata": {
        "collapsed": true,
        "id": "iDuGL2R-X4Zy",
        "colab": {
          "base_uri": "https://localhost:8080/"
        },
        "outputId": "57714e9e-4758-4941-a740-121b383e994b"
      },
      "source": [
        "x = np.linspace(0, 5, 10)\n",
        "y = x ** 2\n",
        "print(y)"
      ],
      "execution_count": null,
      "outputs": [
        {
          "output_type": "stream",
          "name": "stdout",
          "text": [
            "[ 0.          0.30864198  1.2345679   2.77777778  4.9382716   7.71604938\n",
            " 11.11111111 15.12345679 19.75308642 25.        ]\n"
          ]
        }
      ]
    },
    {
      "cell_type": "code",
      "metadata": {
        "id": "gmgLhr-0X4Zy",
        "outputId": "7aac92f3-5ddb-4fdc-a0e6-5c90436c6bf5",
        "colab": {
          "base_uri": "https://localhost:8080/",
          "height": 472
        }
      },
      "source": [
        "plt.figure()\n",
        "plt.plot(x, y, 'r')\n",
        "plt.xlabel('x')\n",
        "plt.ylabel('y')\n",
        "plt.title('This is a quadratic function')\n",
        "plt.show()"
      ],
      "execution_count": null,
      "outputs": [
        {
          "output_type": "display_data",
          "data": {
            "text/plain": [
              "<Figure size 640x480 with 1 Axes>"
            ],
            "image/png": "[encoded data removed]"
          },
          "metadata": {}
        }
      ]
    },
    {
      "cell_type": "markdown",
      "metadata": {
        "id": "i1kJR7mlX4Zz"
      },
      "source": [
        "Bạn có thể làm tất cả những điều tương tự như trên với matplotlib+jupyter. Bạn có thể xem [tại đây](http://nbviewer.jupyter.org/github/jrjohansson/scientific-python-lectures/blob/master/Lecture-4-Matplotlib.ipynb).\n",
        "Nhược điểm duy nhất của việc vẽ đồ thị trong Jupiter Notebook là các ô 3D bạn tạo bằng mlab3d sẽ không có tính tương tác"
      ]
    },
    {
      "cell_type": "markdown",
      "metadata": {
        "id": "mwalwqpNX4Z0"
      },
      "source": [
        "Chức năng của Jupyter Notebook còn mở rộng ra nhiều thứ hơn là chỉ vẽ biểu đồ. Bạn có thể chạy các lệnh shell (nếu bạn cần các thao tác trên máy Linux), khối thời gian của code rất dễ dàng và thậm chí viết latex. Ví dụ,\n",
        "\n",
        "$\\displaystyle \\int_a^b\\frac{\\mathrm{d}^2x}{\\mathrm{d}t^2} + 2\\zeta\\omega_0\\frac{\\mathrm{d}x}{\\mathrm{d}t} + \\omega^2_0 x = 0$\n",
        "\n"
      ]
    },
    {
      "cell_type": "markdown",
      "metadata": {
        "id": "SH1NxJHuX4Z1"
      },
      "source": [
        "**Ví dụ về chạy lệnh shell**"
      ]
    },
    {
      "cell_type": "code",
      "metadata": {
        "id": "bifh6i_TX4Z1",
        "colab": {
          "base_uri": "https://localhost:8080/"
        },
        "outputId": "ba0c29d2-8ae6-4730-8f30-4ff2a5991d7e"
      },
      "source": [
        "ls"
      ],
      "execution_count": null,
      "outputs": [
        {
          "output_type": "stream",
          "name": "stdout",
          "text": [
            "\u001b[0m\u001b[01;34msample_data\u001b[0m/\n"
          ]
        }
      ]
    }
  ]
}