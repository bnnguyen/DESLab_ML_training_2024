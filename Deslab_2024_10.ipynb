{
  "nbformat": 4,
  "nbformat_minor": 0,
  "metadata": {
    "colab": {
      "provenance": [],
      "include_colab_link": true
    },
    "kernelspec": {
      "name": "python3",
      "display_name": "Python 3"
    },
    "language_info": {
      "name": "python"
    }
  },
  "cells": [
    {
      "cell_type": "markdown",
      "metadata": {
        "id": "view-in-github",
        "colab_type": "text"
      },
      "source": [
        "<a href=\"https://colab.research.google.com/github/bnnguyen/DESLab_ML_training_2024/blob/main/Deslab_2024_10.ipynb\" target=\"_parent\"><img src=\"https://colab.research.google.com/assets/colab-badge.svg\" alt=\"Open In Colab\"/></a>"
      ]
    },
    {
      "cell_type": "markdown",
      "source": [
        "# Principal Component Analysis (PCA)"
      ],
      "metadata": {
        "id": "GNCTkkcomduf"
      }
    },
    {
      "cell_type": "code",
      "execution_count": null,
      "metadata": {
        "id": "AmSWw8G3mPcl"
      },
      "outputs": [],
      "source": [
        "from sklearn.datasets import make_classification\n",
        "from sklearn.decomposition import PCA\n",
        "from sklearn.neural_network import MLPClassifier\n",
        "from sklearn.model_selection import train_test_split\n",
        "\n",
        "# Create a classification dataset with 20 features, where 15 of them are informative and 5 are redundant\n",
        "X, y = make_classification(n_samples=10000, n_features=20, n_informative=15, n_redundant=5, n_classes=2)\n",
        "\n",
        "# Split the data into train and test sets\n",
        "X_train, X_test, y_train, y_test = train_test_split(X, y, test_size=0.2)"
      ]
    },
    {
      "cell_type": "markdown",
      "source": [
        "## Applying PCA\n",
        "\n",
        "Bây giờ bạn muốn tìm PCA xác định để sử dụng K tính năng hàng đầu từ dữ liệu trên.\n",
        "Để xác thực một số, hãy lặp lại tất cả các giá trị từ 1 đến 20 và xem liệu chúng ta có tìm thấy điểm nào đó có thể chấp nhận được hay không."
      ],
      "metadata": {
        "id": "ryWb24cQpLR8"
      }
    },
    {
      "cell_type": "code",
      "source": [
        "import numpy as np\n",
        "import matplotlib.pyplot as plt\n",
        "\n",
        "def plot_num_component_vs_explained_variance(X_train):\n",
        "    pca = PCA(n_components=X_train.shape[1])\n",
        "    X_train_pca = pca.fit_transform(X_train)\n",
        "    x_axis = [i+1 for i in range(X_train.shape[1])]\n",
        "    y_axis = [np.sum(pca.explained_variance_ratio_[:i+1]) * 100 for i in range(X_train.shape[1])]\n",
        "\n",
        "    plt.clf()\n",
        "    plt.plot(x_axis, y_axis)\n",
        "    plt.xlabel(\"Number of selected features\")\n",
        "    plt.ylabel(\"%age of explained variance\")\n",
        "    plt.title(\"Num Features vs Explained Variance\")\n",
        "    plt.show()\n",
        "\n",
        "plot_num_component_vs_explained_variance(X_train)"
      ],
      "metadata": {
        "id": "i6aojndupW8C"
      },
      "execution_count": null,
      "outputs": []
    },
    {
      "cell_type": "markdown",
      "source": [
        "Đây là một biểu đồ hữu ích cho chúng ta, vì chúng ta gần như có thể nhìn vào biểu đồ này và biết rằng sau 15 đặc điểm, có 0 phương sai được giải thích và ví dụ: nếu bạn đồng ý chỉ giữ lại 80% phương sai, bạn có thể sử dụng biểu đồ trên cùng. 7 tính năng.\n",
        "\n",
        "Giả sử rằng chúng ta muốn làm việc với 90% phương sai, điểm giới hạn dường như nằm ở khoảng 10 đặc điểm. Điều đó thật tuyệt! Chúng ta đã mất 10% thông tin nhưng lại giảm quy mô vấn đề xuống một nửa!"
      ],
      "metadata": {
        "id": "Yws64Y6DrTo1"
      }
    },
    {
      "cell_type": "code",
      "source": [
        "def make_pca(X_train, num_components):\n",
        "    pca = PCA(n_components = num_components)\n",
        "    X_train_pca = pca.fit_transform(X_train)\n",
        "    return pca, X_train_pca"
      ],
      "metadata": {
        "id": "eDVmdjsprzKN"
      },
      "execution_count": null,
      "outputs": []
    },
    {
      "cell_type": "markdown",
      "source": [
        "Hàm này ở trên xây dựng một biến áp PCA cho chúng ta để chọn các tính năng `num_components` hàng đầu và trả về cho chúng ta đối tượng PCA mà chúng ta có thể sử dụng để chuyển đổi dữ liệu thử nghiệm cũng như dữ liệu đã chuyển đổi.\n",
        "\n",
        "Hãy nhớ rằng, điều cực kỳ quan trọng là bạn phải chuyển đổi dữ liệu thử nghiệm của mình bằng cùng một PCA, nếu không bạn sẽ gặp lỗi!"
      ],
      "metadata": {
        "id": "HKUDd08KsDOu"
      }
    },
    {
      "cell_type": "markdown",
      "source": [
        "Hãy tiếp tục với PCA gồm 10 tính năng cũng như các bộ thử nghiệm và huấn luyện đã được sửa đổi."
      ],
      "metadata": {
        "id": "8yKw_jgZsDLJ"
      }
    },
    {
      "cell_type": "code",
      "source": [
        "pca_10, X_train_pca_10 = make_pca(X_train, num_components = 10)\n",
        "X_test_pca_10 = pca_10.transform(X_test)"
      ],
      "metadata": {
        "id": "99HIl2mBsCgD"
      },
      "execution_count": null,
      "outputs": []
    },
    {
      "cell_type": "markdown",
      "source": [
        "Tuyệt vời, bây giờ chúng ta đã có dữ liệu đã sửa đổi. Chúng ta sẽ làm việc với nó!"
      ],
      "metadata": {
        "id": "oR-yL49Pswvq"
      }
    },
    {
      "cell_type": "markdown",
      "source": [
        "# Neural Networks\n",
        "\n",
        "Bây giờ chúng ta đã có tập dữ liệu đã được giảm kích thước thông qua PCA, hãy xây dựng một số mạng thần kinh trên đó.\n",
        "\n",
        "Như thường lệ, sklearn khiến công việc của bạn trở nên thực sự dễ dàng. Tất cả những gì bạn phải làm là nhập một số giá trị và nó sẽ thực hiện phần còn lại của công việc cho bạn."
      ],
      "metadata": {
        "id": "wHKJXRSos4a4"
      }
    },
    {
      "cell_type": "markdown",
      "source": [
        "Chúng ta có 10 feature, vì vậy hãy xây dựng Neural Networks như sau:\n",
        "\n",
        "1. Ta có đầu vào (10 tính năng)\n",
        "2. Lớp ẩn thứ nhất có 10 nơ-ron.\n",
        "3. Lớp ẩn thứ 2 với 8 nơ-ron.\n",
        "4. Lớp ẩn thứ 3 với 5 nơ-ron.\n",
        "5. Cuối cùng là lớp đầu ra phát ra xác suất.\n",
        "6. Đối với trình tối ưu hóa của chúng tôi, chúng ta sẽ sử dụng \"adam\".\n",
        "7. Để kích hoạt, chúng tôi sẽ sử dụng `ReLu`\n",
        "8. Chúng ta sẽ sử dụng chính quy hóa L2 và đặt cường độ alpha của chính quy hóa là 0,001\n",
        "9. Chúng tôi muốn sử dụng tỷ lệ học là 0,001\n",
        "10. Nếu mức cải thiện của chúng tôi nhỏ hơn 0,0001 (`tol`) trong 10 lần lặp (`n_iter_no_change`), chúng tôi muốn ngừng đào tạo.\n",
        "11. Chúng ta không muốn chạy hơn 10000 lần lặp."
      ],
      "metadata": {
        "id": "8iYiQBadtRaD"
      }
    },
    {
      "cell_type": "code",
      "source": [
        "nn_clf_pca_10 = MLPClassifier(\n",
        "    hidden_layer_sizes = (10, 8, 5),\n",
        "    activation = 'relu',\n",
        "    solver = 'adam',\n",
        "    alpha = 0.001,\n",
        "    learning_rate_init = 0.001,\n",
        "    tol = 0.0001,\n",
        "    n_iter_no_change=10,\n",
        "    max_iter = 10000\n",
        ")"
      ],
      "metadata": {
        "id": "iITIDcqes3MY"
      },
      "execution_count": null,
      "outputs": []
    },
    {
      "cell_type": "markdown",
      "source": [
        "Có rất nhiều tham số, nhưng mạng lưới thần kinh của chúng ta đã sẵn sàng! Lưu ý rằng lớp Mạng thần kinh này không cần bất kỳ thông tin nào về số lượng tính năng trong tập dữ liệu hoặc số lượng class bạn đang cố gắng phân loại nó.\n",
        "\n",
        "Nó đủ thông minh để xem xét dữ liệu và suy ra những giá trị đó.\n",
        "\n",
        "Hãy luyện tập một chút nào! Lần này, chúng ta hãy ghi lại xem phải mất bao lâu để thực hiện một số thao tác huấn luyện và suy luận!"
      ],
      "metadata": {
        "id": "vXIO8AE3vNcm"
      }
    },
    {
      "cell_type": "code",
      "source": [
        "import time\n",
        "\n",
        "pca_10_train_start_time = time.time()\n",
        "nn_clf_pca_10.fit(X_train_pca_10, y_train)\n",
        "pca_10_train_total_time = time.time() - pca_10_train_start_time\n",
        "\n",
        "pca_10_test_start_time = time.time()\n",
        "pca_10_score = nn_clf_pca_10.score(X_test_pca_10, y_test)\n",
        "pca_10_test_total_time = time.time() - pca_10_test_start_time\n",
        "\n",
        "print(f\"Training finished in {pca_10_train_total_time} seconds\")\n",
        "print(f\"Score: {pca_10_score}. Scoring took {pca_10_test_total_time} seconds\")"
      ],
      "metadata": {
        "id": "BNq-NU5Wvhfs"
      },
      "execution_count": null,
      "outputs": []
    },
    {
      "cell_type": "markdown",
      "source": [
        "For fun, chúng ta cũng hãy làm điều tương tự với tập dữ liệu ban đầu của chúng ta!"
      ],
      "metadata": {
        "id": "9-YJsLQfw2Df"
      }
    },
    {
      "cell_type": "code",
      "source": [
        "nn_clf = MLPClassifier(\n",
        "    hidden_layer_sizes = (10, 8, 5),\n",
        "    activation = 'relu',\n",
        "    solver = 'adam',\n",
        "    alpha = 0.001,\n",
        "    learning_rate_init = 0.001,\n",
        "    tol = 0.0001,\n",
        "    n_iter_no_change=10,\n",
        "    max_iter = 10000\n",
        ")\n",
        "\n",
        "orig_train_start_time = time.time()\n",
        "nn_clf.fit(X_train, y_train)\n",
        "orig_train_total_time = time.time() - orig_train_start_time\n",
        "\n",
        "orig_test_start_time = time.time()\n",
        "orig_score = nn_clf.score(X_test, y_test)\n",
        "orig_test_total_time = time.time() - orig_test_start_time\n",
        "\n",
        "print(f\"Training finished in {orig_train_total_time} seconds\")\n",
        "print(f\"Score: {orig_score}. Scoring took {orig_test_total_time} seconds\")"
      ],
      "metadata": {
        "id": "KjokLpQEw6YR"
      },
      "execution_count": null,
      "outputs": []
    },
    {
      "cell_type": "markdown",
      "source": [
        "Tuyệt vời, giờ đây chúng ta có một số dữ liệu mà chúng ta có thể dùng để hình dung rõ hơn tác động của việc sử dụng PCA.\n",
        "\n",
        "Vì chúng ta đang xác định nhiều biểu đồ, hãy viết một hàm trợ giúp đơn giản để giảm trùng lặp code"
      ],
      "metadata": {
        "id": "9ToTyVKaxYv4"
      }
    },
    {
      "cell_type": "code",
      "source": [
        "def plot_comparison(x, y, x_label, y_label, title, colors):\n",
        "    plt.clf()\n",
        "\n",
        "    plt.bar(x, y, color = colors)\n",
        "\n",
        "    plt.xlabel(x_label)\n",
        "    plt.ylabel(y_label)\n",
        "    plt.title(title)\n",
        "\n",
        "    plt.show()\n",
        "\n",
        "x = ['PCA_10', 'Original']\n",
        "\n",
        "plot_comparison(x, [pca_10_score, orig_score], \"Type Of Dataset\", \"Accuracy Score\", \"Dataset Type vs Accuracy\", [\"blue\", \"green\"])\n",
        "plot_comparison(x, [pca_10_test_total_time, orig_test_total_time], \"Type Of Dataset\", \"Time for Inference\", \"Dataset Type vs Testing Time\", [\"blue\", \"green\"])\n",
        "plot_comparison(x, [pca_10_train_total_time, orig_train_total_time], \"Type Of Dataset\", \"Time to Train\", \"Dataset Type vs Training Time\", [\"blue\", \"green\"])\n"
      ],
      "metadata": {
        "id": "TpYLb8sVxYVR"
      },
      "execution_count": null,
      "outputs": []
    }
  ]
}