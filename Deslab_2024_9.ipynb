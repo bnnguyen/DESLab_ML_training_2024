{
  "nbformat": 4,
  "nbformat_minor": 0,
  "metadata": {
    "kernelspec": {
      "display_name": "Python 3",
      "language": "python",
      "name": "python3"
    },
    "language_info": {
      "codemirror_mode": {
        "name": "ipython",
        "version": 3
      },
      "file_extension": ".py",
      "mimetype": "text/x-python",
      "name": "python",
      "nbconvert_exporter": "python",
      "pygments_lexer": "ipython3",
      "version": "3.7.6"
    },
    "colab": {
      "provenance": [],
      "include_colab_link": true
    }
  },
  "cells": [
    {
      "cell_type": "markdown",
      "metadata": {
        "id": "view-in-github",
        "colab_type": "text"
      },
      "source": [
        "<a href=\"https://colab.research.google.com/github/bnnguyen/DESLab_ML_training_2024/blob/main/Deslab_2024_9.ipynb\" target=\"_parent\"><img src=\"https://colab.research.google.com/assets/colab-badge.svg\" alt=\"Open In Colab\"/></a>"
      ]
    },
    {
      "cell_type": "markdown",
      "metadata": {
        "id": "pwvw96VJ1INs"
      },
      "source": [
        "# Linear Regression và Bootstrapping"
      ]
    },
    {
      "cell_type": "code",
      "metadata": {
        "id": "k23ZYpFC1INy"
      },
      "source": [
        "#data processing imports\n",
        "import numpy as np\n",
        "import pandas as pd\n",
        "\n",
        "#data visualization imports\n",
        "import seaborn as sns\n",
        "import matplotlib.pyplot as plt\n",
        "\n",
        "#SciKit Learn library for models\n",
        "from sklearn.linear_model import LinearRegression\n",
        "from sklearn.model_selection import train_test_split\n",
        "from sklearn.utils import resample\n",
        "\n",
        "# accuracy measuring imports\n",
        "import statistics\n",
        "from statistics import mean\n",
        "import sklearn.metrics as metrics\n",
        "\n",
        "%matplotlib inline"
      ],
      "execution_count": null,
      "outputs": []
    },
    {
      "cell_type": "code",
      "metadata": {
        "id": "X1GyUS0r1INz"
      },
      "source": [
        "# reading in the Boston dataset\n",
        "url = \"https://raw.githubusercontent.com/selva86/datasets/master/BostonHousing.csv\"\n",
        "data = pd.read_csv(url)\n",
        "data.head()"
      ],
      "execution_count": null,
      "outputs": []
    },
    {
      "cell_type": "code",
      "metadata": {
        "id": "zpUg4esR1IN0"
      },
      "source": [
        "# Print out summary statistics of the data\n",
        "\n",
        "# Observing means and distribution to get a better understanding of the data\n",
        "allVals = list(data.columns)\n",
        "\n",
        "print(allVals)\n",
        "np.round(data.describe(), 2)"
      ],
      "execution_count": null,
      "outputs": []
    },
    {
      "cell_type": "code",
      "metadata": {
        "id": "DOS0aNg41IN1"
      },
      "source": [
        "# data dimensions\n",
        "data.shape"
      ],
      "execution_count": null,
      "outputs": []
    },
    {
      "cell_type": "code",
      "metadata": {
        "id": "MngVKHtb1IN1"
      },
      "source": [
        "# we always have to make sure that the y variable is normal since this can mess up our model in serious ways\n",
        "# Create a plot to observe the distribution of the target\n",
        "plt.figure(figsize=(10,5))\n",
        "plt.tight_layout()\n",
        "sns.distplot(data['medv'])"
      ],
      "execution_count": null,
      "outputs": []
    },
    {
      "cell_type": "code",
      "metadata": {
        "id": "Y6bDaPS91IN2"
      },
      "source": [
        "# Create a scatter plot comparing medv versus lstat\n",
        "plt.figure(figsize=(15, 10))\n",
        "data.plot(x='lstat', y='medv', style='o')\n",
        "plt.xlabel('lstat')\n",
        "plt.ylabel('medv')\n",
        "plt.title('medv vs lstat')\n",
        "plt.show()"
      ],
      "execution_count": null,
      "outputs": []
    },
    {
      "cell_type": "markdown",
      "metadata": {
        "id": "ElPtImND1IN2"
      },
      "source": [
        "### Xây dựng mô hình và đánh giá độ hiệu quả"
      ]
    },
    {
      "cell_type": "code",
      "metadata": {
        "id": "itByPtG_1IN3"
      },
      "source": [
        "# getting X and Y values from dataset\n",
        "vals = list(set(allVals) - set(['medv']))\n",
        "Xvals = data[vals].values\n",
        "Yvals = data['medv'].values"
      ],
      "execution_count": null,
      "outputs": []
    },
    {
      "cell_type": "code",
      "metadata": {
        "id": "FL2ILjDI1IN3"
      },
      "source": [
        "# splitting the data into train and test sets\n",
        "X_train, X_test, y_train, y_test = train_test_split(Xvals, Yvals, test_size = 0.2, random_state = 10)"
      ],
      "execution_count": null,
      "outputs": []
    },
    {
      "cell_type": "code",
      "metadata": {
        "id": "WngrK4kH1IN3"
      },
      "source": [
        "# creating linear regression model and fitting it based on the train sets\n",
        "regressor = LinearRegression()\n",
        "regressor.fit(X_train, y_train)\n",
        "\n",
        "\n",
        "# getting the R^2 score of the linear model for training and test sets and seeing how the train fitted performs\n",
        "# on the test data sets\n",
        "r_train_score = regressor.score(X_train, y_train)\n",
        "r_test_score = regressor.score(X_test, y_test)\n",
        "\n",
        "#Print out the R^2 Scores\n",
        "print(\"LinearReg R^2 Training Score: {}\".format(np.round(r_train_score, 2)))\n",
        "print(\"LinearReg R^2 Test Score: {}\".format(np.round(r_test_score, 2)))"
      ],
      "execution_count": null,
      "outputs": []
    },
    {
      "cell_type": "code",
      "metadata": {
        "id": "YVzvJuhv1IN4"
      },
      "source": [
        "# printing out the coefficients for the model\n",
        "modelCoeff = list(zip(vals,np.round(regressor.coef_, 5)))\n",
        "\n",
        "print(\"Intercept: {}\".format(np.round(regressor.intercept_, 5)))\n",
        "linearModelvalues = pd.DataFrame(modelCoeff, columns=['Variable', 'Coefficient'], index=None)\n",
        "linearModelvalues"
      ],
      "execution_count": null,
      "outputs": []
    },
    {
      "cell_type": "code",
      "metadata": {
        "id": "iEdHoZCi1IN4"
      },
      "source": [
        "# predicting what y_test should be based on X_test and then comparing to what it actually is\n",
        "y_pred = regressor.predict(X_test)\n",
        "\n",
        "results = pd.DataFrame({'Actual':y_test, 'Predicted':y_pred})\n",
        "df1 = results.head(25)\n",
        "\n",
        "# Plot the prediction versus actual values\n",
        "df1.plot(kind='bar',figsize=(10,8))\n",
        "plt.grid(which='major', linestyle='-', linewidth='0.5', color='green')\n",
        "plt.grid(which='minor', linestyle=':', linewidth='0.5', color='black')\n",
        "plt.show()"
      ],
      "execution_count": null,
      "outputs": []
    },
    {
      "cell_type": "code",
      "metadata": {
        "id": "4W9Al9di1IN5"
      },
      "source": [
        "# getting measures of accuracy from the comparisons\n",
        "print('Mean Absolute Error:', )\n",
        "print('Mean Squared Error:', metrics.mean_squared_error(y_test, y_pred))\n",
        "print('Root Mean Squared Error:', )"
      ],
      "execution_count": null,
      "outputs": []
    },
    {
      "cell_type": "markdown",
      "metadata": {
        "id": "Uba2e1x71IN5"
      },
      "source": [
        "### Triển khai hồi quy Bootstrap"
      ]
    },
    {
      "cell_type": "code",
      "metadata": {
        "id": "79opTnFg1IN5"
      },
      "source": [
        "bootstrap_iter = 1000    # designate the number of iterations for bootstrapping\n",
        "\n",
        "# storing the values for each of these scores across every sample/iteraction of bootstrap\n",
        "MSEtotal = []\n",
        "RMSEtotal = []\n",
        "MAEtotal = []\n",
        "\n",
        "coefs = []\n",
        "intercept =[]\n",
        "\n",
        "for i in range(bootstrap_iter):\n",
        "    # resampling and re-fitting model to each new sample\n",
        "\n",
        "    X_, y_ = resample(X_train, y_train)\n",
        "    regressor.fit(X_, y_)\n",
        "\n",
        "\n",
        "    MSEtotal.append(metrics.mean_squared_error(y_test, y_pred))\n",
        "    RMSEtotal.append(np.sqrt(metrics.mean_squared_error(y_test, y_pred)))\n",
        "    MAEtotal.append(metrics.mean_absolute_error(y_test, y_pred))\n",
        "\n",
        "    coefs.append(regressor.coef_)\n",
        "    intercept.append(regressor.intercept_)"
      ],
      "execution_count": null,
      "outputs": []
    },
    {
      "cell_type": "code",
      "metadata": {
        "id": "hYXrHp5e1IN6"
      },
      "source": [
        "# averaging bootstrap regression results into the lists\n",
        "average = []\n",
        "for coefIndex in range(len(regressor.coef_)):\n",
        "    sumCoef = 0\n",
        "    for sample in range(len(coefs)):\n",
        "        sumCoef += coefs[sample][coefIndex]\n",
        "    average.append(sumCoef)\n",
        "\n",
        "avg_ints = sum(intercept)/len(intercept)\n",
        "\n",
        "for x in range(len(average)):\n",
        "    average[x] = average[x]/len(intercept)"
      ],
      "execution_count": null,
      "outputs": []
    },
    {
      "cell_type": "code",
      "metadata": {
        "id": "rRcFz5bJ1IN6"
      },
      "source": [
        "# displaying results from the bootstrap\n",
        "avgCoeffs = pd.DataFrame({'Variables': vals, 'Average Coefficients': np.round(average, 5)})\n",
        "avgInt = pd.DataFrame({'Average Intercept': ['avg_int'], 'Value': np.round([avg_ints], 5)})\n",
        "\n",
        "display(avgCoeffs)\n",
        "display(avgInt)\n",
        "\n",
        "print('Mean Absolute Error:', statistics.mean(MAEtotal))\n",
        "print('Mean Squared Error:', statistics.mean(MSEtotal))\n",
        "print('Root Mean Squared Error:', statistics.mean(RMSEtotal))"
      ],
      "execution_count": null,
      "outputs": []
    }
  ]
}