{
  "cells": [
    {
      "cell_type": "markdown",
      "metadata": {
        "id": "view-in-github",
        "colab_type": "text"
      },
      "source": [
        "<a href=\"https://colab.research.google.com/github/bnnguyen/DESLab_ML_training_2024/blob/main/Deslab_2024_3.ipynb\" target=\"_parent\"><img src=\"https://colab.research.google.com/assets/colab-badge.svg\" alt=\"Open In Colab\"/></a>"
      ]
    },
    {
      "cell_type": "markdown",
      "metadata": {
        "id": "PlVblqyyryuZ"
      },
      "source": [
        "# Project mẫu - thăm dò bộ dữ liệu cuộc gọi khẩn cấp"
      ]
    },
    {
      "cell_type": "markdown",
      "metadata": {
        "id": "5qh3t8yUryue"
      },
      "source": [
        "Đối với dự án này, chúng ta sẽ phân tích một số dữ liệu cuộc gọi 911 từ [Kaggle](https://www.kaggle.com/mchirico/montcoalert). Dữ liệu chứa các trường sau:\n",
        "\n",
        "* lat : Biến chuỗi, Vĩ độ\n",
        "* lng: Biến chuỗi, Kinh độ\n",
        "* desc: Biến chuỗi, Mô tả cuộc gọi khẩn cấp\n",
        "* zip: Biến chuỗi, Zipcode\n",
        "* title: Biến chuỗi, Tiêu đề\n",
        "* timeStamp: Biến chuỗi, YYYY-MM-DD HH:MM:SS\n",
        "* twp: Biến chuỗi, Thị trấn\n",
        "* addr: Biến chuỗi, Địa chỉ\n",
        "* e: Biến chuỗi, biến giả (luôn luôn là 1)"
      ]
    },
    {
      "cell_type": "markdown",
      "metadata": {
        "id": "kCskjFXaryuf"
      },
      "source": [
        "## Dữ liệu và thiết lập cơ bản"
      ]
    },
    {
      "cell_type": "markdown",
      "metadata": {
        "id": "FjwEMpHMryug"
      },
      "source": [
        "____\n",
        "**Import numpy và pandas**"
      ]
    },
    {
      "cell_type": "code",
      "execution_count": null,
      "metadata": {
        "id": "C6iYXjhxryug"
      },
      "outputs": [],
      "source": [
        "import numpy as np\n",
        "import pandas as pd\n",
        "import requests\n",
        "import io"
      ]
    },
    {
      "cell_type": "markdown",
      "metadata": {
        "id": "8Lv0AwjGryui"
      },
      "source": [
        "**Import thư viện trực quan hóa và đặt %matplotlib inline.**"
      ]
    },
    {
      "cell_type": "code",
      "execution_count": null,
      "metadata": {
        "id": "Fwz9raLHryui"
      },
      "outputs": [],
      "source": [
        "import matplotlib.pyplot as plt\n",
        "import seaborn as sns\n",
        "%matplotlib inline\n",
        "sns.set_style('whitegrid') #whitegrid"
      ]
    },
    {
      "cell_type": "markdown",
      "metadata": {
        "id": "tldAEph8ryuj"
      },
      "source": [
        "**Đọc tệp csv dưới dạng khung dữ liệu có tên df**"
      ]
    },
    {
      "cell_type": "code",
      "execution_count": null,
      "metadata": {
        "id": "AXAfsG7yryuj"
      },
      "outputs": [],
      "source": [
        "url = \"https://raw.githubusercontent.com/bchoivw/python-data-science-study/master/911-eda/911.csv\"\n",
        "df = pd.read_csv(url)"
      ]
    },
    {
      "cell_type": "markdown",
      "metadata": {
        "id": "SSsGaUzGryuk"
      },
      "source": [
        "**Dùng hàm info() để kiểm tra df**"
      ]
    },
    {
      "cell_type": "code",
      "execution_count": null,
      "metadata": {
        "id": "MwZdqWEPryul"
      },
      "outputs": [],
      "source": [
        "df.info()"
      ]
    },
    {
      "cell_type": "markdown",
      "metadata": {
        "id": "VGwyaLnfryum"
      },
      "source": [
        "**Kiểm tra các biến ở đầu của df**"
      ]
    },
    {
      "cell_type": "code",
      "execution_count": null,
      "metadata": {
        "id": "V5DsLxY3ryum"
      },
      "outputs": [],
      "source": [
        "df.head()"
      ]
    },
    {
      "cell_type": "markdown",
      "metadata": {
        "id": "NIjEAbDuryum"
      },
      "source": [
        "## Câu hỏi cơ bản cần nắm bắt"
      ]
    },
    {
      "cell_type": "markdown",
      "metadata": {
        "id": "jcXzrYturyun"
      },
      "source": [
        "**5 mã zip hàng đầu cho cuộc gọi 911 là?**"
      ]
    },
    {
      "cell_type": "code",
      "execution_count": null,
      "metadata": {
        "id": "5UNfBMnSryun"
      },
      "outputs": [],
      "source": [
        "df['zip'].value_counts().head(5)"
      ]
    },
    {
      "cell_type": "markdown",
      "metadata": {
        "id": "WqkyPYMRryun"
      },
      "source": [
        "**5 thị trấn (twp) có nhiều cuộc gọi 911 nhất là?**"
      ]
    },
    {
      "cell_type": "code",
      "execution_count": null,
      "metadata": {
        "id": "0YZVyTciryuo"
      },
      "outputs": [],
      "source": [
        "df['twp'].value_counts().head(5)"
      ]
    },
    {
      "cell_type": "markdown",
      "metadata": {
        "id": "GNP44W-Gryuo"
      },
      "source": [
        "**Có bao nhiêu loại tiêu đề khác nhau?**"
      ]
    },
    {
      "cell_type": "code",
      "execution_count": null,
      "metadata": {
        "id": "aNLeBPUiryuo"
      },
      "outputs": [],
      "source": [
        "df[\"title\"].nunique()"
      ]
    },
    {
      "cell_type": "markdown",
      "metadata": {
        "id": "vNrqJy4Nryuo"
      },
      "source": [
        "## Tạo feature mới"
      ]
    },
    {
      "cell_type": "markdown",
      "metadata": {
        "id": "SqrRJ9vbryup"
      },
      "source": [
        "**Tại cột titles có ghi rõ \"Reasons/Departments\" trước mã title. Các loại \"Reasons/Departments\" là EMS, Fire, và Traffic. Ở đây, chúng ta sử dụng .apply() với biểu thức lambda tùy chỉnh để tạo cột mới có tên \"Reason\" chứa giá trị chuỗi này.**\n",
        "\n",
        "**Ví dụ: nếu giá trị cột tiêu đề là EMS: BACK PAINS/INJURY , thì giá trị cột Lý do sẽ là EMS.**"
      ]
    },
    {
      "cell_type": "code",
      "execution_count": null,
      "metadata": {
        "id": "vVWEh0e8ryup"
      },
      "outputs": [],
      "source": [
        "df['Reason'] = df['title'].apply(lambda x: x.split(':')[0])"
      ]
    },
    {
      "cell_type": "code",
      "execution_count": null,
      "metadata": {
        "id": "ms-gyDojryup"
      },
      "outputs": [],
      "source": [
        "df.head()"
      ]
    },
    {
      "cell_type": "markdown",
      "metadata": {
        "id": "M861DjF9ryup"
      },
      "source": [
        "**Lý do phổ biến nhất dẫn đến cuộc gọi 911 (dựa trên cột mới này)?**"
      ]
    },
    {
      "cell_type": "code",
      "execution_count": null,
      "metadata": {
        "id": "3K0hKaWrryuq"
      },
      "outputs": [],
      "source": [
        "df['Reason'].value_counts()"
      ]
    },
    {
      "cell_type": "markdown",
      "metadata": {
        "id": "S0LwlpDKryuq"
      },
      "source": [
        "**Bây giờ, hãy sử dụng seaborn để tạo bảng đếm các cuộc gọi 911 theo Reason.**"
      ]
    },
    {
      "cell_type": "code",
      "execution_count": null,
      "metadata": {
        "id": "O1L-DC9zryuq"
      },
      "outputs": [],
      "source": [
        "sns.countplot(x=\"Reason\", data=df)"
      ]
    },
    {
      "cell_type": "markdown",
      "metadata": {
        "id": "HUc5QHIZryuq"
      },
      "source": [
        "___\n",
        "**Bây giờ chúng ta hãy bắt đầu tập trung vào thông tin về thời gian. Kiểu dữ liệu của đối tượng trong cột timeStamp là gì?**"
      ]
    },
    {
      "cell_type": "code",
      "execution_count": null,
      "metadata": {
        "id": "NtH-SXFXryuq"
      },
      "outputs": [],
      "source": [
        "type(df['timeStamp'].iloc[0])"
      ]
    },
    {
      "cell_type": "markdown",
      "metadata": {
        "id": "ZOiYdP1gryuq"
      },
      "source": [
        "**Bạn hẳn đã thấy rằng những dấu thời gian này vẫn là chuỗi. Chúng ta sẽ sử dụng [pd.to_datetime](http://pandas.pydata.org/pandas-docs/stable/generated/pandas.to_datetime.html) để chuyển đổi cột từ chuỗi thành đối tượng DateTime.**"
      ]
    },
    {
      "cell_type": "code",
      "execution_count": null,
      "metadata": {
        "id": "6bak_0vLryur"
      },
      "outputs": [],
      "source": [
        "df['timeStamp'] = pd.to_datetime(df['timeStamp'])"
      ]
    },
    {
      "cell_type": "markdown",
      "metadata": {
        "id": "yIyVvW2Rryur"
      },
      "source": [
        "**Bây giờ bạn có thể lấy các thuộc tính cụ thể từ một đối tượng Datetime bằng cách gọi chúng. Ví dụ:**\n",
        "\n",
        "    time = df['timeStamp'].iloc[0]\n",
        "    time.hour"
      ]
    },
    {
      "cell_type": "code",
      "execution_count": null,
      "metadata": {
        "id": "m2RUCtyoryur"
      },
      "outputs": [],
      "source": [
        "df.head()"
      ]
    },
    {
      "cell_type": "code",
      "execution_count": null,
      "metadata": {
        "id": "X2VINR3Sryur"
      },
      "outputs": [],
      "source": [
        "df['Hour'] = df['timeStamp'].apply(lambda time: time.hour)\n",
        "df['Month'] = df['timeStamp'].apply(lambda time: time.month)\n",
        "df['Day of Week'] = df['timeStamp'].apply(lambda time: time.dayofweek)"
      ]
    },
    {
      "cell_type": "code",
      "execution_count": null,
      "metadata": {
        "id": "TYmVwBmBryus"
      },
      "outputs": [],
      "source": [
        "df.head(3)"
      ]
    },
    {
      "cell_type": "markdown",
      "metadata": {
        "id": "Zb0_W66Cryus"
      },
      "source": [
        "**Lưu ý: Day of week là số nguyên 0-6. Chúng ta sẽ sử dụng .map() với từ điển này để ánh xạ tên chuỗi thực tế theo ngày trong tuần:**\n",
        "\n",
        "    dmap = {0:'Mon',1:'Tue',2:'Wed',3:'Thu',4:'Fri',5:'Sat',6:'Sun'}"
      ]
    },
    {
      "cell_type": "code",
      "execution_count": null,
      "metadata": {
        "id": "v15tY64jryus"
      },
      "outputs": [],
      "source": [
        "dmap = {0:'Mon',1:'Tue',2:'Wed',3:'Thu',4:'Fri',5:'Sat',6:'Sun'}"
      ]
    },
    {
      "cell_type": "code",
      "execution_count": null,
      "metadata": {
        "id": "1lF6nEVDryut"
      },
      "outputs": [],
      "source": [
        "df['Day of Week'] = df['Day of Week'].map(dmap)"
      ]
    },
    {
      "cell_type": "code",
      "execution_count": null,
      "metadata": {
        "id": "DfO92g0iryut"
      },
      "outputs": [],
      "source": [
        "df.head(2)"
      ]
    },
    {
      "cell_type": "markdown",
      "metadata": {
        "id": "MzpvXRFzryuu"
      },
      "source": [
        "**Bây giờ, hãy sử dụng seaborn để tạo biểu đồ đếm của cột Day of week với màu sắc dựa trên cột Reason.**"
      ]
    },
    {
      "cell_type": "code",
      "execution_count": null,
      "metadata": {
        "id": "ded-kOf2ryuu"
      },
      "outputs": [],
      "source": [
        "sns.countplot(x='Day of Week', data=df, hue='Reason')\n",
        "plt.legend(bbox_to_anchor=(1.05,1), loc = 2, borderaxespad=0.)"
      ]
    },
    {
      "cell_type": "markdown",
      "metadata": {
        "id": "D5lspbbMryuu"
      },
      "source": [
        "**Làm tương tự với Month:**"
      ]
    },
    {
      "cell_type": "code",
      "execution_count": null,
      "metadata": {
        "id": "2c0X2kvWryuu"
      },
      "outputs": [],
      "source": [
        "sns.countplot(x='Month', data=df, hue='Reason')\n",
        "plt.legend(bbox_to_anchor=(1.05,1), loc = 2, borderaxespad=0.)"
      ]
    },
    {
      "cell_type": "markdown",
      "metadata": {
        "id": "JTaUa7wiryuu"
      },
      "source": [
        "**Bạn có nhận thấy điều gì 'hơi lạ' ở các đồ thị trên hong?**\n",
        "\n",
        "\n",
        "\n"
      ]
    },
    {
      "cell_type": "markdown",
      "metadata": {
        "id": "l3dV5745ryuv"
      },
      "source": [
        "**Bây giờ hãy tạo một đối tượng nhóm có tên byMonth, trong đó bạn nhóm DataFrame theo cột tháng và sử dụng phương thức count() để tổng hợp. Sử dụng phương thức head() trên DataFrame được trả về:**"
      ]
    },
    {
      "cell_type": "code",
      "execution_count": null,
      "metadata": {
        "id": "jYyW5MIeryuv"
      },
      "outputs": [],
      "source": [
        "byMonth = df.groupby(\"Month\").count()\n",
        "byMonth.head(12)"
      ]
    },
    {
      "cell_type": "markdown",
      "metadata": {
        "id": "lLnioOJOryuv"
      },
      "source": [
        "**Bây giờ hãy tạo một biểu đồ đơn giản từ khung dữ liệu cho biết số lượng cuộc gọi mỗi tháng.**"
      ]
    },
    {
      "cell_type": "code",
      "execution_count": null,
      "metadata": {
        "id": "WLzJygeyryuv"
      },
      "outputs": [],
      "source": [
        "byMonth['e'].plot()"
      ]
    },
    {
      "cell_type": "markdown",
      "metadata": {
        "id": "SQK9BYL2ryuv"
      },
      "source": [
        "**Bây giờ hãy xem liệu bạn có thể sử dụng lmplot() của seaborn để tạo sự phù hợp tuyến tính về số lượng cuộc gọi mỗi tháng hay không.**"
      ]
    },
    {
      "cell_type": "code",
      "execution_count": null,
      "metadata": {
        "id": "r4IKMn9Dryuw"
      },
      "outputs": [],
      "source": [
        "# Look up .reset_index\n",
        "sns.lmplot(x='Month', y='e', data=byMonth.reset_index())"
      ]
    },
    {
      "cell_type": "markdown",
      "metadata": {
        "id": "RobyxEDaryuw"
      },
      "source": [
        "**Ở đây, chúng ta tạo một cột mới có tên là'Date' chứa ngày từ cột timeStamp. Chúng ta sẽ cần sử dụng apply cùng với .date().**"
      ]
    },
    {
      "cell_type": "code",
      "execution_count": null,
      "metadata": {
        "id": "dVE4RrQCryuw"
      },
      "outputs": [],
      "source": [
        "df['Date'] = df['timeStamp'].apply(lambda time: time.date())\n",
        "df.head()"
      ]
    },
    {
      "cell_type": "markdown",
      "metadata": {
        "id": "9cuRvyEUryuw"
      },
      "source": [
        "**Bây giờ, hãy groupby theo cột Ngày này với tổng số count() và tạo biểu đồ đếm số cuộc gọi 911.**"
      ]
    },
    {
      "cell_type": "code",
      "execution_count": null,
      "metadata": {
        "id": "cjEw-Fporyuw"
      },
      "outputs": [],
      "source": [
        "df.groupby('Date').count()['e'].plot(figsize=(10,6))"
      ]
    },
    {
      "cell_type": "markdown",
      "metadata": {
        "id": "OctPa3poryuw"
      },
      "source": [
        "**Bây giờ hãy tạo lại biểu đồ này nhưng tạo 3 biểu đồ riêng biệt với mỗi biểu đồ đại diện cho một lý do gọi 911**"
      ]
    },
    {
      "cell_type": "code",
      "execution_count": null,
      "metadata": {
        "id": "f3M_6P1Iryux"
      },
      "outputs": [],
      "source": [
        "#Reason 1: EMS\n",
        "df[df['Reason']=='EMS'].groupby('Date').count()['e'].plot(figsize=(10,6))"
      ]
    },
    {
      "cell_type": "code",
      "execution_count": null,
      "metadata": {
        "id": "jdK7vmLoryux"
      },
      "outputs": [],
      "source": [
        "#Reason 2: Fire\n",
        "df[df['Reason']=='Fire'].groupby('Date').count()['e'].plot(figsize=(10,6))"
      ]
    },
    {
      "cell_type": "code",
      "execution_count": null,
      "metadata": {
        "id": "YOa-_i0Lryux"
      },
      "outputs": [],
      "source": [
        "#Reason 3: Traffic\n",
        "df[df['Reason']=='Traffic'].groupby('Date').count()['e'].plot(figsize=(10,6))"
      ]
    },
    {
      "cell_type": "markdown",
      "metadata": {
        "id": "h3IvM6Bmryux"
      },
      "source": [
        "____\n",
        "**Bây giờ chúng ta sẽ chuyển sang tạo heatmap với seaborn và dữ liệu của chúng ta. Trước tiên, chúng ta cần cơ cấu lại khung dữ liệu để các cột Hours và Index trở thành Day of Week.**"
      ]
    },
    {
      "cell_type": "code",
      "execution_count": null,
      "metadata": {
        "id": "IhUmdGDeryux"
      },
      "outputs": [],
      "source": [
        "hdf = df.groupby(['Day of Week','Hour']).count()['e'].unstack(1)"
      ]
    },
    {
      "cell_type": "code",
      "execution_count": null,
      "metadata": {
        "id": "F6hUvVCgryuy"
      },
      "outputs": [],
      "source": [
        "hdf"
      ]
    },
    {
      "cell_type": "markdown",
      "metadata": {
        "id": "v2U6BVRUryuy"
      },
      "source": [
        "**Giờ thì tạo heatmap thôi nào.**\n",
        "\n"
      ]
    },
    {
      "cell_type": "code",
      "execution_count": null,
      "metadata": {
        "id": "6jLyP7DCryuy"
      },
      "outputs": [],
      "source": [
        "plt.figure(figsize=(12,6))\n",
        "sns.heatmap(data=hdf)\n"
      ]
    },
    {
      "cell_type": "markdown",
      "metadata": {
        "id": "m8i1OfQCryuy"
      },
      "source": [
        "**Chúng ta cũng có thể tạo clustermap dựa vào hdf. Tài liệu: https://seaborn.pydata.org/generated/seaborn.clustermap.html**"
      ]
    },
    {
      "cell_type": "code",
      "execution_count": null,
      "metadata": {
        "id": "3RxRG2RQryuy"
      },
      "outputs": [],
      "source": [
        "sns.clustermap(hdf)\n"
      ]
    },
    {
      "cell_type": "markdown",
      "metadata": {
        "id": "_CqRHtRJryuy"
      },
      "source": [
        "**Bây giờ, hãy lặp lại các biểu đồ tương tự (heatmap và clustermap) cho DataFrame hiển thị Month dưới dạng cột**"
      ]
    },
    {
      "cell_type": "code",
      "execution_count": null,
      "metadata": {
        "id": "k-yUP4TAryuy"
      },
      "outputs": [],
      "source": [
        "dayMonth = df.groupby(by=['Day of Week','Month']).count()['Reason'].unstack()\n",
        "dayMonth.head()"
      ]
    },
    {
      "cell_type": "code",
      "source": [
        "#ClusterMap\n",
        "sns.clustermap(dayMonth)"
      ],
      "metadata": {
        "id": "LQWKxT1U0GvO"
      },
      "execution_count": null,
      "outputs": []
    },
    {
      "cell_type": "code",
      "execution_count": null,
      "metadata": {
        "id": "DvXTWMZgryuz"
      },
      "outputs": [],
      "source": [
        "#HeatMap\n",
        "plt.figure(figsize=(12,6))\n",
        "sns.heatmap(dayMonth)"
      ]
    }
  ],
  "metadata": {
    "kernelspec": {
      "display_name": "Python 3",
      "language": "python",
      "name": "python3"
    },
    "language_info": {
      "codemirror_mode": {
        "name": "ipython",
        "version": 3
      },
      "file_extension": ".py",
      "mimetype": "text/x-python",
      "name": "python",
      "nbconvert_exporter": "python",
      "pygments_lexer": "ipython3",
      "version": "3.7.1"
    },
    "colab": {
      "provenance": [],
      "include_colab_link": true
    }
  },
  "nbformat": 4,
  "nbformat_minor": 0
}