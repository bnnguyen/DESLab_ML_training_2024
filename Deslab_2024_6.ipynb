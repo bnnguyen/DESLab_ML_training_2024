{
  "cells": [
    {
      "cell_type": "markdown",
      "metadata": {
        "id": "view-in-github",
        "colab_type": "text"
      },
      "source": [
        "<a href=\"https://colab.research.google.com/github/bnnguyen/DESLab_ML_training_2024/blob/main/Deslab_2024_6.ipynb\" target=\"_parent\"><img src=\"https://colab.research.google.com/assets/colab-badge.svg\" alt=\"Open In Colab\"/></a>"
      ]
    },
    {
      "cell_type": "markdown",
      "metadata": {
        "id": "eroOhyFCbGV8"
      },
      "source": [
        "# Naive Bayes Classification using Wine data (UCI ML Repo)\n",
        "\n",
        "Kỹ thuật [Naive Bayes Classifier](http://dataaspirant.com/2017/02/06/naive-bayes-classifier-machine-learning/) dựa trên cái gọi là định lý Bayesian và đặc biệt phù hợp khi tính chiều của đầu vào cao. Mặc dù đơn giản nhưng Naive Bayes thường có thể hoạt động tốt hơn các phương pháp phân loại phức tạp hơn.\n",
        "\n",
        "### Định lý Bayes\n",
        "\n",
        "Thuật toán này dựa trên [định lý __Bayes__](https://en.wikipedia.org/wiki/Bayes%27_theorem) nổi tiếng được đặt theo tên của Mục sư Thomas Bayes. Nó hoạt động dựa trên xác suất có điều kiện. [Xác suất có điều kiện](https://en.wikipedia.org/wiki/Conditional_probability) là xác suất để một điều gì đó sẽ xảy ra, vì một điều gì đó khác đã xảy ra. Sử dụng xác suất có điều kiện, chúng ta có thể tính xác suất của một sự kiện bằng kiến thức trước đó của nó.\n",
        "\n",
        "Định lý Bayes được phát biểu về mặt toán học như phương trình sau:\n",
        "\n",
        "$${\\displaystyle P(A\\mid B)={\\frac {P(B\\mid A)\\,P(A)}{P(B)}},}$$\n",
        "trong đó $A$ và $B$ là các sự kiện và $P(B)\\neq{0}$.\n",
        "\n",
        "$P(A\\mid B)$ là [xác suất có điều kiện](https://en.wikipedia.org/wiki/Conditional_probability): khả năng xảy ra sự kiện $A$ nếu $B$ là đúng.\n",
        "\n",
        "$P(B\\mid A)$ cũng là một xác suất có điều kiện: khả năng xảy ra sự kiện $B$ nếu $A$ là đúng.\n",
        "\n",
        "$P(A)$ và $P(B)$ là xác suất quan sát $A$ và $B$ độc lập với nhau; đây được gọi là [xác suất cận biên](https://en.wikipedia.org/wiki/Marginal_probability).\n",
        "\n",
        "### _Naive_ trong Naive Bayes là gì và tại sao nó lại là thuật toán siêu nhanh?\n",
        "\n",
        "Thuật toán được gọi với cái tên là Bayes ngây thơ hay Bayes ngốc nghếch vì việc tính toán xác suất cho mỗi giả thuyết được đơn giản hóa để làm cho việc tính toán của chúng trở nên dễ thực hiện. Thay vì cố gắng tính toán các giá trị của từng giá trị thuộc tính, chúng được giả định là độc lập có điều kiện với giá trị đích.\n",
        "\n",
        "Đây là một giả định chắc chắn khó có thể xảy ra trong dữ liệu thực, tức là các thuộc tính không tương tác. Tuy nhiên, cách tiếp cận này thực hiện tốt một cách đáng ngạc nhiên đối với dữ liệu mà giả định này không đúng.\n",
        "\n",
        "Việc huấn luyện diễn ra nhanh vì chỉ cần tính xác suất của từng lớp và xác suất của mỗi lớp với các giá trị đầu vào khác nhau. **Không cần phải điều chỉnh hệ số bằng quy trình tối ưu hóa.**\n",
        "\n",
        "Xác suất của lớp chỉ đơn giản là tần số của các trường hợp thuộc về mỗi lớp chia cho tổng số trường hợp. Xác suất có điều kiện là tần số của từng giá trị thuộc tính đối với một giá trị lớp nhất định chia cho tần suất của các thể hiện có giá trị lớp đó.\n",
        "\n",
        "### Dữ liệu được phân tích trong sổ ghi chép này\n",
        "\n",
        "Sau đây chúng ta sẽ tìm hiểu cách sử dụng phương pháp Naive Bayes của Python scikit-learn để phân loại nguồn gốc rượu vang dựa trên dữ liệu phân tích hóa lý. Những dữ liệu này là kết quả phân tích hóa học về rượu vang được trồng trong cùng một vùng ở Ý nhưng có nguồn gốc từ ba giống cây trồng khác nhau. Phân tích đã xác định số lượng của 13 thành phần được tìm thấy trong mỗi loại rượu trong số ba loại rượu vang.\n",
        "\n",
        "Thông tin chi tiết có thể được [**tìm thấy ở đây**](http://archive.ics.uci.edu/ml/datasets/Wine)."
      ]
    },
    {
      "cell_type": "code",
      "execution_count": null,
      "metadata": {
        "collapsed": true,
        "id": "nJ0QQps9bGWC"
      },
      "outputs": [],
      "source": [
        "import numpy as np\n",
        "import pandas as pd\n",
        "import matplotlib.pyplot as plt\n",
        "%matplotlib inline"
      ]
    },
    {
      "cell_type": "markdown",
      "metadata": {
        "id": "XahOnrOSbGWE"
      },
      "source": [
        "#### Data set"
      ]
    },
    {
      "cell_type": "code",
      "execution_count": null,
      "metadata": {
        "id": "Ahs49SmdbGWF"
      },
      "outputs": [],
      "source": [
        "df = pd.read_csv('https://raw.githubusercontent.com/arjun-prabhakar/crimson-data-science/main/wine.data.csv')\n",
        "df.head(10)\n"
      ]
    },
    {
      "cell_type": "markdown",
      "metadata": {
        "id": "zWd9-RAabGWG"
      },
      "source": [
        "#### Basic statistics of the features"
      ]
    },
    {
      "cell_type": "code",
      "execution_count": null,
      "metadata": {
        "id": "bTVLS_vpbGWG"
      },
      "outputs": [],
      "source": [
        "df.iloc[:,1:].describe()"
      ]
    },
    {
      "cell_type": "markdown",
      "metadata": {
        "id": "ygKfCTaObGWH"
      },
      "source": [
        "#### Boxplots by output labels/classes"
      ]
    },
    {
      "cell_type": "code",
      "execution_count": null,
      "metadata": {
        "scrolled": false,
        "id": "FJTO2V5rbGWI"
      },
      "outputs": [],
      "source": [
        "for c in df.columns[1:]:\n",
        "    df.boxplot(c,by='Class',figsize=(7,4),fontsize=14)\n",
        "    plt.title(\"{}\\n\".format(c),fontsize=16)\n",
        "    plt.xlabel(\"Wine Class\", fontsize=16)"
      ]
    },
    {
      "cell_type": "markdown",
      "metadata": {
        "id": "7CyXsFrlbGWJ"
      },
      "source": [
        "**Có thể thấy rằng một số tính năng phân loại nhãn rượu vang khá rõ ràng.** Ví dụ: Alcalinity, Total Phenols hoặc Flavonoid tạo ra các ô hình hộp có các đường trung bình được phân tách rõ ràng, biểu thị rõ ràng các loại rượu vang.\n",
        "\n",
        "Dưới đây là một ví dụ về phân tách lớp bằng hai biến"
      ]
    },
    {
      "cell_type": "code",
      "execution_count": null,
      "metadata": {
        "id": "gDthU4F5bGWK"
      },
      "outputs": [],
      "source": [
        "plt.figure(figsize=(10,6))\n",
        "plt.scatter(df['OD280/OD315 of diluted wines'],df['Flavanoids'],c=df['Class'],edgecolors='k',alpha=0.8,s=100)\n",
        "plt.grid(True)\n",
        "plt.title(\"Scatter plot of two features showing the \\ncorrelation and class seperation\",fontsize=15)\n",
        "plt.xlabel(\"OD280/OD315 of diluted wines\",fontsize=15)\n",
        "plt.ylabel(\"Flavanoids\",fontsize=15)"
      ]
    },
    {
      "cell_type": "markdown",
      "metadata": {
        "id": "6k7_3ljnbGWK"
      },
      "source": [
        "#### Các tính năng có độc lập không? Vẽ ma trận hiệp phương sai\n",
        "\n",
        "Có thể thấy rằng có một số mối tương quan tốt giữa các đặc điểm, tức là chúng không độc lập với nhau, như giả định trong kỹ thuật Naive Bayes. Tuy nhiên, chúng tôi vẫn sẽ tiếp tục và áp dụng trình phân loại để xem hiệu suất của nó."
      ]
    },
    {
      "cell_type": "code",
      "execution_count": null,
      "metadata": {
        "id": "Mdjae0X-bGWL"
      },
      "outputs": [],
      "source": [
        "def correlation_matrix(df):\n",
        "    from matplotlib import pyplot as plt\n",
        "    from matplotlib import cm as cm\n",
        "\n",
        "    fig = plt.figure(figsize=(16,12))\n",
        "    ax1 = fig.add_subplot(111)\n",
        "    cmap = cm.get_cmap('jet', 30)\n",
        "    cax = ax1.imshow(df.corr(), interpolation=\"nearest\", cmap=cmap)\n",
        "    ax1.grid(True)\n",
        "    plt.title('Wine data set features correlation\\n',fontsize=15)\n",
        "    labels=df.columns\n",
        "    ax1.set_xticklabels(labels,fontsize=9)\n",
        "    ax1.set_yticklabels(labels,fontsize=9)\n",
        "    # Add colorbar, make sure to specify tick locations to match desired ticklabels\n",
        "    fig.colorbar(cax, ticks=[0.1*i for i in range(-11,11)])\n",
        "    plt.show()\n",
        "\n",
        "correlation_matrix(df)"
      ]
    },
    {
      "cell_type": "markdown",
      "metadata": {
        "id": "gLc-CPc3bGWL"
      },
      "source": [
        "## Naive Bayes Classification"
      ]
    },
    {
      "cell_type": "markdown",
      "metadata": {
        "id": "iTazLMSabGWL"
      },
      "source": [
        "#### Test/train split"
      ]
    },
    {
      "cell_type": "code",
      "execution_count": null,
      "metadata": {
        "collapsed": true,
        "id": "Jbi785S0bGWM"
      },
      "outputs": [],
      "source": [
        "from sklearn.model_selection import train_test_split\n",
        "\n",
        " # Test-set 30%\n",
        "test_size = 0.3"
      ]
    },
    {
      "cell_type": "code",
      "execution_count": null,
      "metadata": {
        "collapsed": true,
        "id": "iZhuzKbTbGWM"
      },
      "outputs": [],
      "source": [
        "#Isolate the features from the Target variable:\n",
        "# Meaning separate Class from the rest of the columns\n",
        "# Y should contain only Class while X should contain the rest of the columns in the original dataset\n",
        "X = df.drop('Class', axis=1)\n",
        "y = df['Class']\n",
        "# Specify the train and test X and Y using the imported train_test_split\n",
        "X_train, X_test, y_train, y_test = train_test_split(X, y, test_size=test_size)"
      ]
    },
    {
      "cell_type": "code",
      "execution_count": null,
      "metadata": {
        "id": "eO1Z9TkSbGWM"
      },
      "outputs": [],
      "source": [
        "X_train.shape"
      ]
    },
    {
      "cell_type": "code",
      "execution_count": null,
      "metadata": {
        "id": "sZ7nqyZEbGWN"
      },
      "outputs": [],
      "source": [
        "#Look at head of X train\n",
        "X_train.head()"
      ]
    },
    {
      "cell_type": "markdown",
      "metadata": {
        "id": "ZWAhcQGUbGWN"
      },
      "source": [
        "#### Classification using GaussianNB"
      ]
    },
    {
      "cell_type": "markdown",
      "metadata": {
        "id": "lH2laAY2bGWN"
      },
      "source": [
        "Cho một biến lớp $y$ và một vectơ đặc trưng phụ thuộc $x_1$ đến $x_n$, định lý Bayes phát biểu mối quan hệ sau:\n",
        "\n",
        "$$P(y \\mid x_1, \\dots, x_n) = \\frac{P(y) P(x_1, \\dots x_n \\mid y)} {P(x_1, \\dots, x_n)}$$\n",
        "Sử dụng giả định độc lập ngây thơ rằng\n",
        "$$P(x_i | y, x_1, \\dots, x_{i-1}, x_{i+1}, \\dots, x_n) = P(x_i | y),$$\n",
        "với mọi $i$, mối quan hệ này được đơn giản hóa thành\n",
        "$$P(y \\mid x_1, \\dots, x_n) = \\frac{P(y) \\prod_{i=1}^{n} P(x_i \\mid y)} {P(x_1, \\dots, x_n )}$$\n",
        "\n",
        "Vì $P(x_1, \\dots, x_n)$ là hằng số với đầu vào nên chúng ta có thể sử dụng quy tắc phân loại sau:\n",
        "$$P(y \\mid x_1, \\dots, x_n) \\propto P(y) \\prod_{i=1}^{n} P(x_i \\mid y)$$\n",
        "$$\\Downarrow$$\n",
        "$$\\hat{y} = \\arg\\max_y P(y) \\prod_{i=1}^{n} P(x_i \\mid y),$$\n",
        "\n",
        "và chúng ta có thể sử dụng ước tính [**Maximum A Posteriori**](https://en.wikipedia.org/wiki/Maximum_a_postteriori_estimation) (MAP) để ước tính $P(y)$ và $P(x_i \\mid y)$ ; cái trước là tần số tương đối của lớp $y$ trong tập huấn luyện."
      ]
    },
    {
      "cell_type": "markdown",
      "metadata": {
        "id": "I6J8kknLbGWO"
      },
      "source": [
        "***GaussianNB ()*** triển khai thuật toán Gaussian Naive Bayes để phân loại. **Khả năng của các tính năng được giả định là Gaussian**:\n",
        "\n",
        "$$ P(x_i \\mid y) = \\frac{1}{\\sqrt{2\\pi\\sigma^2_y}} \\exp(-\\frac{(x_i - \\mu_y)^2}{2\\sigma^2_y }) $$\n",
        "\n",
        "Các tham số $\\sigma_y$ và $\\mu_y$ được ước tính bằng khả năng tối đa."
      ]
    },
    {
      "cell_type": "code",
      "execution_count": null,
      "metadata": {
        "collapsed": true,
        "id": "RtvNNc73bGWO"
      },
      "outputs": [],
      "source": [
        "from sklearn.naive_bayes import GaussianNB"
      ]
    },
    {
      "cell_type": "code",
      "execution_count": null,
      "metadata": {
        "collapsed": true,
        "id": "0Btu1PoIbGWO"
      },
      "outputs": [],
      "source": [
        "nbc = GaussianNB()"
      ]
    },
    {
      "cell_type": "code",
      "execution_count": null,
      "metadata": {
        "id": "p0fAbeFxbGWP"
      },
      "outputs": [],
      "source": [
        "nbc.fit(X_train, y_train)"
      ]
    },
    {
      "cell_type": "markdown",
      "metadata": {
        "id": "TJwC09sLbGWP"
      },
      "source": [
        "#### Prediction và confusion matrix"
      ]
    },
    {
      "cell_type": "code",
      "execution_count": null,
      "metadata": {
        "id": "twbxdxYRbGWP"
      },
      "outputs": [],
      "source": [
        "# Predict the class on the X_test\n",
        "y_pred = nbc.predict(X_test)\n",
        "#Find the total number of mislabeled data points\n",
        "mislabel = np.sum(y_test!=y_pred)\n",
        "print(\"Total number of mislabeled data points from {} test samples is {}\".format(len(y_test), mislabel))"
      ]
    },
    {
      "cell_type": "code",
      "execution_count": null,
      "metadata": {
        "collapsed": true,
        "id": "xHxlQON1bGWP"
      },
      "outputs": [],
      "source": [
        "from sklearn.metrics import classification_report"
      ]
    },
    {
      "cell_type": "code",
      "execution_count": null,
      "metadata": {
        "collapsed": true,
        "id": "p9-SOHx2bGWQ"
      },
      "outputs": [],
      "source": [
        "from sklearn.metrics import confusion_matrix"
      ]
    },
    {
      "cell_type": "code",
      "execution_count": null,
      "metadata": {
        "id": "9uMTiGIxbGWQ"
      },
      "outputs": [],
      "source": [
        "cm = (confusion_matrix(y_test,y_pred))\n",
        "cmdf = pd.DataFrame(cm,index=['Class 1','Class 2',' Class 3'], columns=['Class 1','Class 2',' Class 3'])\n",
        "print(\"The confusion matrix looks like following...\\n\")\n",
        "cmdf"
      ]
    },
    {
      "cell_type": "markdown",
      "metadata": {
        "id": "4vjrXE73bGWR"
      },
      "source": [
        "**Điều này cho thấy rằng ngay cả khi có sự tương thích giữa các đặc điểm, thuật toán Naive Bayes vẫn hoạt động khá tốt và có thể tách các lớp một cách dễ dàng**"
      ]
    }
  ],
  "metadata": {
    "kernelspec": {
      "display_name": "Python 3",
      "language": "python",
      "name": "python3"
    },
    "language_info": {
      "codemirror_mode": {
        "name": "ipython",
        "version": 3
      },
      "file_extension": ".py",
      "mimetype": "text/x-python",
      "name": "python",
      "nbconvert_exporter": "python",
      "pygments_lexer": "ipython3",
      "version": "3.6.2"
    },
    "colab": {
      "provenance": [],
      "include_colab_link": true
    }
  },
  "nbformat": 4,
  "nbformat_minor": 0
}