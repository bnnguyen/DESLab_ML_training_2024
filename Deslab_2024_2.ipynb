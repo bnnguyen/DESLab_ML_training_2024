{
  "cells": [
    {
      "cell_type": "markdown",
      "metadata": {
        "id": "view-in-github",
        "colab_type": "text"
      },
      "source": [
        "<a href=\"https://colab.research.google.com/github/bnnguyen/DESLab_ML_training_2024/blob/main/Deslab_2024_2.ipynb\" target=\"_parent\"><img src=\"https://colab.research.google.com/assets/colab-badge.svg\" alt=\"Open In Colab\"/></a>"
      ]
    },
    {
      "cell_type": "markdown",
      "metadata": {
        "id": "sCd7SBoui7kf"
      },
      "source": [
        "# Cách trực quan hóa dữ liệu - Project mẫu về dữ liệu người chơi bóng rổ\n",
        "\n"
      ]
    },
    {
      "cell_type": "code",
      "execution_count": null,
      "metadata": {
        "id": "8QVwdyHji7kg"
      },
      "outputs": [],
      "source": [
        "# imports for data processing and analytics\n",
        "import numpy as np\n",
        "import pandas as pd\n",
        "pd.set_option('display.max_columns', None)\n",
        "\n",
        "# imports for data visualization\n",
        "import matplotlib.pyplot as plt\n",
        "import seaborn as sns # library for more advanced plots\n",
        "import plotly.express as px # library for interactive plots\n",
        "%matplotlib inline\n",
        "# makes graphs inline, always useful to put when using matplotlib"
      ]
    },
    {
      "cell_type": "markdown",
      "metadata": {
        "id": "tu_csW-qi7kh"
      },
      "source": [
        "## Phân tích và trực quan hóa dữ liệu (sử dụng Matplotlib và Seaborn)"
      ]
    },
    {
      "cell_type": "code",
      "execution_count": null,
      "metadata": {
        "scrolled": true,
        "id": "vVu12_Cai7kh"
      },
      "outputs": [],
      "source": [
        "data_url = \"https://raw.githubusercontent.com/arjun-prabhakar/crimson-data-science/main/NBAplayerTotals2020.csv\"\n",
        "basketballData = pd.read_csv(data_url)\n",
        "basketballData.head()"
      ]
    },
    {
      "cell_type": "markdown",
      "metadata": {
        "id": "k7Smn8Bgi7ki"
      },
      "source": [
        "### Player Efficiency Rating (PER)"
      ]
    },
    {
      "cell_type": "markdown",
      "source": [
        "Tạo một biểu đồ thanh có 20 người chơi hàng đầu về PER trên trục x và PER tương ứng của họ trên trục y bằng Matplotlib (xem ví dụ sử dụng Seaborn bên dưới)"
      ],
      "metadata": {
        "id": "x-Vc4oeAtcIX"
      }
    },
    {
      "cell_type": "code",
      "execution_count": null,
      "metadata": {
        "scrolled": false,
        "id": "4XDrPCA7i7ki"
      },
      "outputs": [],
      "source": [
        "#Modified DF\n",
        "sortedPER = basketballData.sort_values(['PER'], ascending=False)\n",
        "PERtop20 = sortedPER.head(20)"
      ]
    },
    {
      "cell_type": "code",
      "source": [
        "#Matplotlib Pyplot\n",
        "plt.figure(figsize=(30, 10))\n",
        "plt.bar(PERtop20['Player'], PERtop20['PER'])\n",
        "plt.xlabel('Player')\n",
        "plt.ylabel('Player Efficiency Rating (PER)')\n",
        "plt.title('Top 20 Players in the NBA by PER')\n",
        "plt.xticks(rotation=30, ha='center')\n",
        "plt.show()"
      ],
      "metadata": {
        "id": "oBt70NIv20kK"
      },
      "execution_count": null,
      "outputs": []
    },
    {
      "cell_type": "code",
      "execution_count": null,
      "metadata": {
        "id": "qhOiPEUEi7ki"
      },
      "outputs": [],
      "source": [
        "#Example in Seaborn with Matplotlib\n",
        "fig, ax = plt.subplots(figsize=(7, 10))\n",
        "plt.title('Top 20 Players in NBA by PER')\n",
        "sns.set_color_codes(\"pastel\")\n",
        "sns.barplot(x=\"PER\", y=\"Player\", data=PERtop20, color=\"g\")"
      ]
    },
    {
      "cell_type": "markdown",
      "source": [
        "Bây giờ sắp xếp dữ liệu theo cột VA theo thứ tự giảm dần và lấy 20 VA hàng đầu. Sử dụng công cụ này để vẽ biểu đồ EWA cho phép chúng ta có được 20 cầu thủ hàng đầu tại NBA theo EWA."
      ],
      "metadata": {
        "id": "2gjK2i8HTFsx"
      }
    },
    {
      "cell_type": "code",
      "execution_count": null,
      "metadata": {
        "id": "784MLlMTi7ki"
      },
      "outputs": [],
      "source": [
        "# Sort based on VA and get the first 20 rows from this sorted dataframe\n",
        "sortedVA = basketballData.sort_values(['VA'], ascending=False)\n",
        "VAtop20 = sortedVA.head(20)\n",
        "#MatPlotLib Pyplot\n",
        "plt.figure(figsize=(30, 10))\n",
        "plt.bar(VAtop20['Player'], VAtop20['EWA'])\n",
        "plt.xlabel('Player')\n",
        "plt.ylabel('Estimated Wins Added (EWA)')\n",
        "plt.title('Top 20 Players in the NBA by EWA')\n",
        "plt.xticks(rotation=30, ha='center')\n",
        "plt.show()"
      ]
    },
    {
      "cell_type": "code",
      "execution_count": null,
      "metadata": {
        "id": "GqbhrSYOi7ki"
      },
      "outputs": [],
      "source": [
        "#Example of bar plot with the help of Seaborn\n",
        "fig, ax = plt.subplots(figsize=(7, 10))\n",
        "plt.title('Top 20 Players in NBA by EWA')\n",
        "sns.set_color_codes(\"pastel\")\n",
        "sns.barplot(x=\"EWA\", y=\"Player\", data=VAtop20, color=\"g\")"
      ]
    },
    {
      "cell_type": "code",
      "execution_count": null,
      "metadata": {
        "id": "5EgSIEXxi7kj"
      },
      "outputs": [],
      "source": [
        "#Now plot the bottom 20 players using Seaborn with Matplotlib (really similar to the previous cell)\n",
        "VAbottom20 = sortedVA.tail(20)\n",
        "VAbottom20 = VAbottom20.sort_values(by = 'EWA', ascending=True)\n",
        "\n",
        "# Uncomment the code below after specifying the bottom 20 players above this line\n",
        "fig, ax = plt.subplots(figsize=(7, 10))\n",
        "plt.title('Bottom 20 Players in NBA by EWA')\n",
        "sns.set_color_codes(\"pastel\")\n",
        "sns.barplot(x=\"EWA\", y=\"Player\", data=VAbottom20, color=\"r\")"
      ]
    },
    {
      "cell_type": "code",
      "execution_count": null,
      "metadata": {
        "id": "xADZUXQsi7kj"
      },
      "outputs": [],
      "source": [
        "# Looking at a Pair Plot\n",
        "basic_stats = ['Pos','PTS', 'AST', 'TRB', 'STL', 'BLK']\n",
        "sns.set_color_codes(\"pastel\")\n",
        "sns.set(style=\"ticks\", color_codes=True)\n",
        "sns.set_style('darkgrid')\n",
        "sns.pairplot(basketballData[basic_stats], hue = 'Pos', palette = 'husl')"
      ]
    },
    {
      "cell_type": "markdown",
      "metadata": {
        "id": "CQHqdGaBi7kj"
      },
      "source": [
        "## Tạo biểu đồ trực quan tương tác được với Plotly"
      ]
    },
    {
      "cell_type": "code",
      "execution_count": null,
      "metadata": {
        "id": "PuoEN7ERi7kj"
      },
      "outputs": [],
      "source": [
        "#Another graphing library is Plotly which we can use for interactive graphs\n",
        "fig = px.scatter(basketballData, x='PTS', y='AST', hover_data = ['Player'])\n",
        "fig.update_layout(title_text = 'Points vs. Assists for 2020 NBA Players')"
      ]
    },
    {
      "cell_type": "code",
      "execution_count": null,
      "metadata": {
        "id": "t0fb2eqci7kj"
      },
      "outputs": [],
      "source": [
        "#Using Pyplot, create a scatterplot that shows the FG percentage versus the Estimated Wins Added for 2020 NBA Players\n",
        "fig = px.scatter(basketballData, x='EWA', y='FG%', hover_data = ['Player', 'Pos'], color='3P%', color_continuous_scale='viridis')\n",
        "fig.update_layout(title_text = 'Field Goals % vs. Estimated Wins Added for 2020 NBA Players')"
      ]
    },
    {
      "cell_type": "code",
      "execution_count": null,
      "metadata": {
        "id": "xRYKyxRzi7kj"
      },
      "outputs": [],
      "source": [
        "#Using Pyplot, now create a scatterplot that shows the Personal Fouls versus the Total Points for 2020 NBA Players\n",
        "fig = px.scatter(basketballData, x='PF', y='PTS', hover_data = ['Player', 'Pos'], color='EWA', color_continuous_scale='viridis')\n",
        "fig.update_layout(title_text = 'Personal Fouls vs. Total Points for 2020 NBA Players')"
      ]
    },
    {
      "cell_type": "code",
      "execution_count": null,
      "metadata": {
        "id": "WdgbS4RAi7kk"
      },
      "outputs": [],
      "source": [
        "fig = px.scatter_matrix(basketballData, dimensions=[\"PTS\", \"TRB\", \"AST\"], title=\"2020 NBA Players\", hover_data = ['Player'], color='Pos')\n",
        "fig.show()"
      ]
    }
  ],
  "metadata": {
    "kernelspec": {
      "display_name": "Python 3",
      "language": "python",
      "name": "python3"
    },
    "language_info": {
      "codemirror_mode": {
        "name": "ipython",
        "version": 3
      },
      "file_extension": ".py",
      "mimetype": "text/x-python",
      "name": "python",
      "nbconvert_exporter": "python",
      "pygments_lexer": "ipython3",
      "version": "3.7.7"
    },
    "colab": {
      "provenance": [],
      "include_colab_link": true
    }
  },
  "nbformat": 4,
  "nbformat_minor": 0
}