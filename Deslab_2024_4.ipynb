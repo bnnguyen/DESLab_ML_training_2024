{
  "nbformat": 4,
  "nbformat_minor": 0,
  "metadata": {
    "kernelspec": {
      "display_name": "Python 3",
      "language": "python",
      "name": "python3"
    },
    "language_info": {
      "codemirror_mode": {
        "name": "ipython",
        "version": 3
      },
      "file_extension": ".py",
      "mimetype": "text/x-python",
      "name": "python",
      "nbconvert_exporter": "python",
      "pygments_lexer": "ipython3",
      "version": "3.6.2"
    },
    "colab": {
      "provenance": [],
      "include_colab_link": true
    }
  },
  "cells": [
    {
      "cell_type": "markdown",
      "metadata": {
        "id": "view-in-github",
        "colab_type": "text"
      },
      "source": [
        "<a href=\"https://colab.research.google.com/github/bnnguyen/DESLab_ML_training_2024/blob/main/Deslab_2024_4.ipynb\" target=\"_parent\"><img src=\"https://colab.research.google.com/assets/colab-badge.svg\" alt=\"Open In Colab\"/></a>"
      ]
    },
    {
      "cell_type": "markdown",
      "metadata": {
        "id": "Cdd0AaInZ5cP"
      },
      "source": [
        "# K Means Clustering\n",
        "\n",
        "Thuật toán $K$-means chia một tập hợp $N$ điểm dữ liệu $X$ thành $K$ cụm rời rạc $C$, mỗi cụm được mô tả bằng giá trị trung bình $\\mu_j$ của các mẫu trong cụm. Phương thức xác định chính thường được gọi là **cụm “trọng tâm”**. Thuật toán K-means nhằm mục đích chọn các trọng tâm giảm thiểu quán tính hoặc tổng tiêu chí bình phương trong cụm:\n",
        "\n",
        "$$\\sum_{i=0}^{n}\\min_{\\mu_j \\in C}(||x_j - \\mu_i||^2)$$\n",
        "\n",
        "## Cách thức hoạt động của thuật toán\n",
        "\n",
        "Thuật toán phân cụm Κ-means sử dụng tính năng sàng lọc lặp lại để tạo ra kết quả cuối cùng. Đầu vào của thuật toán là số cụm $Κ$ và tập dữ liệu. Tập dữ liệu là tập hợp các đặc điểm cho từng điểm dữ liệu. Các thuật toán bắt đầu với ước tính ban đầu cho trọng tâm $Κ$, có thể được tạo ngẫu nhiên hoặc được chọn ngẫu nhiên từ tập dữ liệu. Thuật toán sau đó lặp lại giữa hai bước:\n",
        "\n",
        "**Bước xác nhận dữ liệu**: Mỗi centroid xác định một trong các cụm. Trong bước này, mỗi điểm dữ liệu được gán cho trọng tâm gần nhất của nó, dựa trên khoảng cách Euclide bình phương. Cụ thể hơn, nếu $c_i$ là tập hợp các trọng tâm trong tập $C$, thì mỗi điểm dữ liệu $x$ được gán cho một cụm dựa trên\n",
        "\n",
        "$$\\underset{c_i \\in C}{\\arg\\min} \\; dist(c_i,x)^2$$\n",
        "trong đó dist( · ) là khoảng cách Euclide tiêu chuẩn ($L_2$). Đặt tập các phép gán điểm dữ liệu cho mỗi trọng tâm cụm thứ i là $S_i$.\n",
        "\n",
        "**Bước cập nhật trọng tâm**: Trong bước này, trọng tâm được tính toán lại. Điều này được thực hiện bằng cách lấy giá trị trung bình của tất cả các điểm dữ liệu được gán cho cụm của trung tâm đó.\n",
        "\n",
        "$$c_i=\\frac{1}{|S_i|}\\sum_{x_i \\in S_i x_i}$$\n",
        "\n",
        "Thuật toán lặp lại giữa các bước một và hai cho đến khi đáp ứng được tiêu chí ta đưa ra (nghĩa là không có điểm dữ liệu nào thay đổi cụm, tổng khoảng cách được giảm thiểu hoặc đạt đến số lần lặp tối đa).\n",
        "\n",
        "**Hội tụ và khởi tạo ngẫu nhiên**\n",
        "\n",
        "Thuật toán này được đảm bảo hội tụ về một kết quả. Kết quả có thể là tối ưu cục bộ (tức là không nhất thiết phải là kết quả tốt nhất có thể), nghĩa là việc đánh giá nhiều lần chạy thuật toán với trọng tâm khởi đầu ngẫu nhiên có thể cho kết quả tốt hơn.\n",
        "\n",
        "<img src=https://upload.wikimedia.org/wikipedia/commons/e/ea/K-means_convergence.gif style=\"width: 500px;\"/>\n",
        "\n",
        "Có thể xem giải thích kỹ hơn ở [đây](https://www.youtube.com/watch?v=4b5d3muPQmA&t=269s)\n",
        "\n",
        "## Dữ liệu\n",
        "\n",
        "Đối với dự án này, chúng ta sẽ cố gắng sử dụng Phân cụm KMeans để phân cụm các đối tượng trường Đại học thành hai nhóm, Tư và Công. Chúng ta sẽ sử dụng khung dữ liệu với 777 đối tượng trên 18 biến sau.\n",
        "\n",
        "* Private A factor with levels No and Yes indicating private or public university\n",
        "* Apps Number of applications received\n",
        "* Accept Number of applications accepted\n",
        "* Enroll Number of new students enrolled\n",
        "* Top10perc Pct. new students from top 10% of H.S. class\n",
        "* Top25perc Pct. new students from top 25% of H.S. class\n",
        "* F.Undergrad Number of fulltime undergraduates\n",
        "* P.Undergrad Number of parttime undergraduates\n",
        "* Outstate Out-of-state tuition\n",
        "* Room.Board Room and board costs\n",
        "* Books Estimated book costs\n",
        "* Personal Estimated personal spending\n",
        "* PhD Pct. of faculty with Ph.D.’s\n",
        "* Terminal Pct. of faculty with terminal degree\n",
        "* S.F.Ratio Student/faculty ratio\n",
        "* perc.alumni Pct. alumni who donate\n",
        "* Expend Instructional expenditure per student\n",
        "* Grad.Rate Graduation rate"
      ]
    },
    {
      "cell_type": "markdown",
      "metadata": {
        "id": "mp7PnZ2MZ5cV"
      },
      "source": [
        "### Import thư viện"
      ]
    },
    {
      "cell_type": "code",
      "metadata": {
        "collapsed": true,
        "id": "lEL6hiVnZ5cW"
      },
      "source": [
        "import pandas as pd\n",
        "import numpy as np\n",
        "import matplotlib.pyplot as plt\n",
        "import seaborn as sns\n",
        "%matplotlib inline"
      ],
      "execution_count": null,
      "outputs": []
    },
    {
      "cell_type": "markdown",
      "metadata": {
        "id": "KgYb7pvZZ5cX"
      },
      "source": [
        "## Lấy dữ liệu"
      ]
    },
    {
      "cell_type": "markdown",
      "metadata": {
        "id": "3fgR2k-rZ5cX"
      },
      "source": [
        "**Đọc cột College_Data file sử dụng read_csv.**"
      ]
    },
    {
      "cell_type": "code",
      "metadata": {
        "collapsed": true,
        "id": "by21byNYZ5cY"
      },
      "source": [
        "url = \"https://raw.githubusercontent.com/ChrisWoodard43/KMeans-Universities/master/College_Data\"\n",
        "df = pd.read_csv(url,index_col=0)"
      ],
      "execution_count": null,
      "outputs": []
    },
    {
      "cell_type": "code",
      "metadata": {
        "id": "g0nfGu58Z5cZ"
      },
      "source": [
        "df.head()"
      ],
      "execution_count": null,
      "outputs": []
    },
    {
      "cell_type": "code",
      "metadata": {
        "id": "w8cqxAE6Z5ca"
      },
      "source": [
        "df.info()"
      ],
      "execution_count": null,
      "outputs": []
    },
    {
      "cell_type": "markdown",
      "metadata": {
        "id": "1CZxlDG9Z5cb"
      },
      "source": [
        "## Phân tích thăm dò\n",
        "\n",
        "**Tạo biểu đồ phân tán của Grad.Rate so với Room.Board (và sự phù hợp tuyến tính của chúng) trong đó các điểm được tô màu theo cột Private.**"
      ]
    },
    {
      "cell_type": "code",
      "metadata": {
        "id": "zRvGQcMuZ5cc"
      },
      "source": [
        "sns.lmplot(data=df, x='Room.Board', y='Grad.Rate', hue='Private', palette='coolwarm', height=6, aspect=1, fit_reg=True)"
      ],
      "execution_count": null,
      "outputs": []
    },
    {
      "cell_type": "markdown",
      "metadata": {
        "id": "7i_Nrtu9Z5cc"
      },
      "source": [
        "**Tạo biểu đồ phân tán của F.Undergrad so với Outstate trong đó các điểm được tô màu theo cột Private.**\n",
        "\n",
        "**Biểu đồ cho thấy hai chiều đặc điểm này tách biệt tùy theo loại trường đại học**"
      ]
    },
    {
      "cell_type": "code",
      "metadata": {
        "id": "zoJ7MLLYZ5cc"
      },
      "source": [
        "sns.set_style('whitegrid')\n",
        "sns.lmplot(data=df, x='Outstate', y='F.Undergrad', hue='Private', palette='coolwarm', height=6, aspect=1,fit_reg=True)"
      ],
      "execution_count": null,
      "outputs": []
    },
    {
      "cell_type": "markdown",
      "metadata": {
        "id": "PG0UXB7yZ5cd"
      },
      "source": [
        "**Tạo boxplot thể hiện student-faculty ratio dựa trên loại trường đại học**"
      ]
    },
    {
      "cell_type": "code",
      "metadata": {
        "id": "yHyXDzyIZ5cd"
      },
      "source": [
        "sns.boxplot(x='Private', y='S.F.Ratio', data=df)"
      ],
      "execution_count": null,
      "outputs": []
    },
    {
      "cell_type": "markdown",
      "metadata": {
        "id": "jjtoPOfFZ5ce"
      },
      "source": [
        "**Tạo boxplot thể hiện phần trăm cựu sinh viên quyên góp dựa trên loại trường đại học**"
      ]
    },
    {
      "cell_type": "code",
      "metadata": {
        "id": "vsALWHBTZ5ce"
      },
      "source": [
        "sns.boxplot(x='Private', y='perc.alumni', data=df)"
      ],
      "execution_count": null,
      "outputs": []
    },
    {
      "cell_type": "markdown",
      "metadata": {
        "id": "NN9BRqAQZ5ce"
      },
      "source": [
        "**Tạo stacked histogram thể hiện Out of State Tuition dựa trên cột Private.**"
      ]
    },
    {
      "cell_type": "code",
      "metadata": {
        "id": "plAlWF0RZ5ce"
      },
      "source": [
        "g = sns.FacetGrid(df, hue=\"Private\", palette=\"coolwarm\", height=6, aspect=2)\n",
        "g = g.map(plt.hist, \"Outstate\", bins=20, alpha=0.7)"
      ],
      "execution_count": null,
      "outputs": []
    },
    {
      "cell_type": "markdown",
      "metadata": {
        "id": "djfyrK0GZ5cf"
      },
      "source": [
        "**Tạo một histogram tương tự cho cột Grad.Rate.**"
      ]
    },
    {
      "cell_type": "code",
      "metadata": {
        "id": "TtMiuBBsZ5cf"
      },
      "source": [
        "g = sns.FacetGrid(df, hue=\"Private\", palette=\"coolwarm\", height=6, aspect=2)\n",
        "g = g.map(plt.hist, \"Grad.Rate\", bins=20, alpha=0.7)"
      ],
      "execution_count": null,
      "outputs": []
    },
    {
      "cell_type": "markdown",
      "metadata": {
        "id": "dtATjjrBZ5cf"
      },
      "source": [
        "**Dường như có một trường tư thục có tỷ lệ tốt nghiệp cao hơn 100% mất rồi! Thật là phi lí! Hãy tìm ra trường đó nhé.**"
      ]
    },
    {
      "cell_type": "code",
      "metadata": {
        "id": "bb3j78jTZ5cf"
      },
      "source": [
        "df[df['Grad.Rate'] > 100]"
      ],
      "execution_count": null,
      "outputs": []
    },
    {
      "cell_type": "markdown",
      "metadata": {
        "id": "BW5NM5iVZ5cf"
      },
      "source": [
        "**Gán tỉ lệ tốt nghiệp của trường đấy thành 100 để dữ liệu được hợp lý. Có thể sẽ gặp một cảnh báo (không phải lỗi) khi thực hiện hành động này, vì thế hãy sử dụng các phép toán tử của dataframe hoặc làm lại histogram để đảm bảo không hiện cảnh báo nữa.**"
      ]
    },
    {
      "cell_type": "code",
      "metadata": {
        "id": "3maOk1BEZ5cg"
      },
      "source": [
        "df['Grad.Rate']['Cazenovia College'] = 100"
      ],
      "execution_count": null,
      "outputs": []
    },
    {
      "cell_type": "code",
      "metadata": {
        "id": "8XY90swBZ5cg"
      },
      "source": [
        "df[df['Grad.Rate'] > 100]"
      ],
      "execution_count": null,
      "outputs": []
    },
    {
      "cell_type": "code",
      "metadata": {
        "id": "rEmp_tWkZ5cg"
      },
      "source": [
        "sns.set_style('darkgrid')\n",
        "g = sns.FacetGrid(df,hue=\"Private\",palette='coolwarm',height=6,aspect=2)\n",
        "g = g.map(plt.hist,'Grad.Rate',bins=20,alpha=0.7)"
      ],
      "execution_count": null,
      "outputs": []
    },
    {
      "cell_type": "code",
      "metadata": {
        "collapsed": true,
        "id": "5_jOmc3YZ5cg"
      },
      "source": [
        "from sklearn.cluster import KMeans"
      ],
      "execution_count": null,
      "outputs": []
    },
    {
      "cell_type": "markdown",
      "metadata": {
        "id": "E_8Gn9K5Z5ch"
      },
      "source": [
        "**Tạo 1 mô hình K Means model với 2 cụm.**"
      ]
    },
    {
      "cell_type": "code",
      "metadata": {
        "collapsed": true,
        "id": "O6qF1YmCZ5ch"
      },
      "source": [
        "kmeans = KMeans(n_clusters=2, verbose=0,tol=1e-3,max_iter=300,n_init=20)"
      ],
      "execution_count": null,
      "outputs": []
    },
    {
      "cell_type": "markdown",
      "metadata": {
        "id": "nocG6N7-Z5ch"
      },
      "source": [
        "**Huấn luyện mô hình này với dữ liệu đang có, loại trừ cột Private.**"
      ]
    },
    {
      "cell_type": "code",
      "metadata": {
        "scrolled": false,
        "id": "RD1ZQnQOZ5ch"
      },
      "source": [
        "kmeans.fit(df.drop('Private', axis=1))"
      ],
      "execution_count": null,
      "outputs": []
    },
    {
      "cell_type": "markdown",
      "metadata": {
        "id": "luFjBEmoZ5ch"
      },
      "source": [
        "**Các vectơ trung tâm cụm là?**"
      ]
    },
    {
      "cell_type": "code",
      "metadata": {
        "id": "h4He1zNHZ5ch"
      },
      "source": [
        "clus_cent=kmeans.cluster_centers_\n",
        "clus_cent"
      ],
      "execution_count": null,
      "outputs": []
    },
    {
      "cell_type": "markdown",
      "metadata": {
        "id": "Mveo82YgZ5ci"
      },
      "source": [
        "**Bây giờ hãy so sánh các trung tâm cụm này (đối với tất cả các thứ nguyên/tính năng) với các phương tiện dữ liệu được gắn nhãn đã biết**"
      ]
    },
    {
      "cell_type": "code",
      "metadata": {
        "id": "dXfkR5nTZ5ci"
      },
      "source": [
        "df[df['Private'] == 'Yes'].describe() # Statistics for private colleges only"
      ],
      "execution_count": null,
      "outputs": []
    },
    {
      "cell_type": "code",
      "metadata": {
        "id": "LqAY3hHJZ5ci"
      },
      "source": [
        "df[df['Private'] == 'No'].describe() # Statistics for public colleges only"
      ],
      "execution_count": null,
      "outputs": []
    },
    {
      "cell_type": "markdown",
      "metadata": {
        "id": "dH-vxbQ3Z5ci"
      },
      "source": [
        "**Tạo khung dữ liệu với tâm cụm và tên cột được mượn từ khung dữ liệu gốc**\n",
        "\n",
        "**Trong khung dữ liệu này, có rõ nhãn nào tương ứng với trường đại học tư thục (0 hoặc 1) không?**"
      ]
    },
    {
      "cell_type": "code",
      "metadata": {
        "id": "-rNigNNXZ5ci"
      },
      "source": [
        "df_desc=pd.DataFrame(df.describe())\n",
        "feat = list(df_desc.columns)\n",
        "kmclus = pd.DataFrame(clus_cent,columns=feat)\n",
        "kmclus"
      ],
      "execution_count": null,
      "outputs": []
    },
    {
      "cell_type": "markdown",
      "metadata": {
        "id": "a12kxmq6Z5ci"
      },
      "source": [
        "**Các cụm được đánh nhãn như nào ?**"
      ]
    },
    {
      "cell_type": "code",
      "metadata": {
        "id": "hOXCenrRZ5ci"
      },
      "source": [
        "kmeans.labels_"
      ],
      "execution_count": null,
      "outputs": []
    },
    {
      "cell_type": "markdown",
      "metadata": {
        "id": "ps30S4xwZ5ci"
      },
      "source": [
        "## Đánh giá\n",
        "\n",
        "Không có cách nào hoàn hảo để đánh giá việc phân cụm nếu bạn không có nhãn (phân loại chính xác của các trường). Tuy nhiên vì đây chỉ là một bài tập nên chúng ta đã có sẵn phân loại của các trường học trong bộ dữ liệu. Nhưng hãy nhớ là trên thực tế, mọi việc có thể khó khăn hơn nhiều bới bộ dữ liệu có thể sẽ bị khuyết đi một số thông tin.\n",
        "\n",
        "**Tạo một cột mới cho df có tên là 'Cluster', cột này là 1 cho trường tư thục và 0 cho trường công lập.**"
      ]
    },
    {
      "cell_type": "code",
      "metadata": {
        "id": "9EexcrdEZ5cj"
      },
      "source": [
        "def converter(cluster):\n",
        "    if cluster=='Yes':\n",
        "        return 1\n",
        "    else:\n",
        "        return 0"
      ],
      "execution_count": null,
      "outputs": []
    },
    {
      "cell_type": "code",
      "metadata": {
        "collapsed": true,
        "id": "XvU156ltZ5cj"
      },
      "source": [
        "df1=df # Create a copy of data frame so that original data frame does not get 'corrupted' with the cluster index\n",
        "df1['Cluster'] = df['Private'].apply(converter)"
      ],
      "execution_count": null,
      "outputs": []
    },
    {
      "cell_type": "code",
      "metadata": {
        "id": "h2F79NaVZ5cj"
      },
      "source": [
        "df1.head()"
      ],
      "execution_count": null,
      "outputs": []
    },
    {
      "cell_type": "markdown",
      "metadata": {
        "id": "hnAUIk8VZ5cj"
      },
      "source": [
        "**Tạo ma trận nhầm lẫn (confusion matrix) để xem phân cụm Kmeans hoạt động tốt như thế nào khi không được gắn nhãn.**"
      ]
    },
    {
      "cell_type": "code",
      "metadata": {
        "id": "0hvipFJ7Z5cj"
      },
      "source": [
        "from sklearn.metrics import confusion_matrix\n",
        "print(confusion_matrix(df1['Cluster'],kmeans.labels_))"
      ],
      "execution_count": null,
      "outputs": []
    },
    {
      "cell_type": "markdown",
      "metadata": {
        "id": "mFn77-OaZ5cj"
      },
      "source": [
        "## Kiểm tra hiệu quả của việc phân cụm (e.g. distance between centroids)"
      ]
    },
    {
      "cell_type": "markdown",
      "metadata": {
        "id": "KGPxrUZQZ5ck"
      },
      "source": [
        "**Khám phá các tham số như max_iter và n_init và tính toán khoảng cách tâm cụm**"
      ]
    },
    {
      "cell_type": "code",
      "metadata": {
        "id": "pWXxfn8QZ5ck"
      },
      "source": [
        "def split_df_by_private(df):\n",
        "    private_df = df[df['Private'] == True]\n",
        "    public_df = df[df['Private'] == False]\n",
        "    return private_df, public_df\n",
        "\n",
        "df_private, df_public = split_df_by_private(df.copy())\n",
        "\n",
        "kmeans = KMeans(n_clusters=2, verbose=0, tol=1e-3, max_iter=50, n_init=10)\n",
        "kmeans.fit(df.drop('Private',axis=1))\n",
        "clus_cent=kmeans.cluster_centers_\n",
        "\n",
        "df_desc=pd.DataFrame(df.describe())\n",
        "feat = list(df_desc.columns)\n",
        "kmclus = pd.DataFrame(clus_cent,columns=feat)\n",
        "\n",
        "# Check for single cluster (as suggested in previous response)\n",
        "if kmclus.shape[0] > 1:\n",
        "    a = np.array(kmclus.diff().iloc[1])\n",
        "    centroid_diff = pd.DataFrame(a, columns=['K-means cluster centroid-distance'], index=df_desc.columns)\n",
        "else:\n",
        "    # Handle single cluster case\n",
        "    print(\"K-Means resulted in a single cluster. Centroid difference calculation is not applicable.\")\n",
        "    centroid_diff = pd.DataFrame(columns=['K-means cluster centroid-distance'], index=df_desc.columns)  # Empty DataFrame\n",
        "\n",
        "# Calculate distances (optional)\n",
        "# distances = pdist(kmclus)  # Pairwise distances between centroids\n",
        "\n",
        "numerical_cols = [col for col in df_private.columns if pd.api.types.is_numeric_dtype(df_private[col])]\n",
        "private_means = df_private[numerical_cols].mean()  # Calculate mean only for numerical columns\n",
        "public_means = df_public[numerical_cols].mean()\n",
        "\n",
        "centroid_diff['Mean of corresponding entity (private)'] = private_means\n",
        "centroid_diff['Mean of corresponding entity (public)'] = public_means\n",
        "\n",
        "centroid_diff"
      ],
      "execution_count": null,
      "outputs": []
    },
    {
      "cell_type": "code",
      "source": [],
      "metadata": {
        "id": "m61eB_802QBE"
      },
      "execution_count": null,
      "outputs": []
    }
  ]
}